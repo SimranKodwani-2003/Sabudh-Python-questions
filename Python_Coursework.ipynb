{
  "cells": [
    {
      "cell_type": "markdown",
      "metadata": {
        "id": "view-in-github",
        "colab_type": "text"
      },
      "source": [
        "<a href=\"https://colab.research.google.com/github/SimranKodwani-2003/Sabudh-Python-questions/blob/main/Python_Coursework.ipynb\" target=\"_parent\"><img src=\"https://colab.research.google.com/assets/colab-badge.svg\" alt=\"Open In Colab\"/></a>"
      ]
    },
    {
      "cell_type": "markdown",
      "metadata": {
        "id": "mCvwr4Vvyab1"
      },
      "source": [
        "#  ***LIST***"
      ]
    },
    {
      "cell_type": "markdown",
      "metadata": {
        "id": "uI42Bt2cHy8V"
      },
      "source": [
        "***Write a Python program to multiply all the items in a list***"
      ]
    },
    {
      "cell_type": "code",
      "execution_count": null,
      "metadata": {
        "colab": {
          "base_uri": "https://localhost:8080/"
        },
        "id": "YNIR-0LfH3kV",
        "outputId": "70f5e54a-79ab-4040-92c9-f276130356a7"
      },
      "outputs": [
        {
          "name": "stdout",
          "output_type": "stream",
          "text": [
            "length of list2\n",
            "list Values1\n",
            "list Values2\n",
            "[1, 2]\n"
          ]
        }
      ],
      "source": [
        "n=int(input(\"length of list\"))\n",
        "l=[]\n",
        "for i in range(n):\n",
        "  val=int(input(\"list Values\"))\n",
        "  l.append(val)\n",
        "print(l)"
      ]
    },
    {
      "cell_type": "code",
      "execution_count": null,
      "metadata": {
        "colab": {
          "base_uri": "https://localhost:8080/"
        },
        "id": "JQJKAhytG4bl",
        "outputId": "80c91714-0861-46ca-e500-3ccc8c83a8d0"
      },
      "outputs": [
        {
          "name": "stdout",
          "output_type": "stream",
          "text": [
            "120\n"
          ]
        }
      ],
      "source": [
        "l=[1,2,3,4,5]\n",
        "prod=1\n",
        "for i in range(len(l)):\n",
        "  prod=prod*l[i]\n",
        "print(prod)"
      ]
    },
    {
      "cell_type": "markdown",
      "metadata": {
        "id": "mGwXFcbEJnED"
      },
      "source": [
        "***Write a Python program to get the largest number from a list.\\***\n"
      ]
    },
    {
      "cell_type": "code",
      "execution_count": null,
      "metadata": {
        "colab": {
          "base_uri": "https://localhost:8080/"
        },
        "id": "AhHUBUOaJvkw",
        "outputId": "7bbd57e9-4363-4c55-b2bc-bec42fc6f3fd"
      },
      "outputs": [
        {
          "name": "stdout",
          "output_type": "stream",
          "text": [
            "65\n"
          ]
        }
      ],
      "source": [
        "l=[1,2,3,45,65]\n",
        "m=max(l)\n",
        "print(m)"
      ]
    },
    {
      "cell_type": "markdown",
      "metadata": {
        "id": "KAjeQvJvKBqy"
      },
      "source": [
        "***Write a Python program to get the smallest number from a list.***"
      ]
    },
    {
      "cell_type": "code",
      "execution_count": null,
      "metadata": {
        "colab": {
          "base_uri": "https://localhost:8080/"
        },
        "id": "9tFPT3zHKBRK",
        "outputId": "a71e6a91-8804-48b3-c8c7-6144a51b3e32"
      },
      "outputs": [
        {
          "name": "stdout",
          "output_type": "stream",
          "text": [
            "10\n"
          ]
        }
      ],
      "source": [
        "l=[10,20,30,40,50]\n",
        "m=min(l)\n",
        "print(m)"
      ]
    },
    {
      "cell_type": "markdown",
      "metadata": {
        "id": "W6R_OeIFKcyQ"
      },
      "source": [
        "***Write a Python program to get a list, sorted in increasing order by the last element in each tuple from a given list of non-empty tuples.***"
      ]
    },
    {
      "cell_type": "code",
      "execution_count": null,
      "metadata": {
        "colab": {
          "base_uri": "https://localhost:8080/"
        },
        "id": "jtPVMFitKVl_",
        "outputId": "0acbd038-de5a-410c-c67d-02b9e9ed4a3c"
      },
      "outputs": [
        {
          "name": "stdout",
          "output_type": "stream",
          "text": [
            "[20, 32, 12, 34, 29]\n"
          ]
        }
      ],
      "source": [
        "# l = [29, 32, 12, 34, 20]\n",
        "# sorted_l = sorted(l, key=lambda x: str(x)[-1])\n",
        "# print(sorted_l)"
      ]
    },
    {
      "cell_type": "code",
      "execution_count": null,
      "metadata": {
        "colab": {
          "base_uri": "https://localhost:8080/"
        },
        "id": "DRaNOcuUKb3d",
        "outputId": "1fa283f0-0df0-42dc-ac32-bd1dd8311cdc"
      },
      "outputs": [
        {
          "name": "stdout",
          "output_type": "stream",
          "text": [
            "[(3, 1), (2, 1), (3, 2), (1, 3)]\n"
          ]
        }
      ],
      "source": [
        "def Sort_Tuple(t):\n",
        "    t.sort(key = lambda x: x[-1])\n",
        "    return t\n",
        "\n",
        "t = [(3, 1),(1, 3), (3, 2), (2, 1)]\n",
        "\n",
        "print(Sort_Tuple(t))"
      ]
    },
    {
      "cell_type": "markdown",
      "metadata": {
        "id": "Acii7V7SR36q"
      },
      "source": [
        "***Write a Python program to remove duplicates from a list.***"
      ]
    },
    {
      "cell_type": "code",
      "execution_count": null,
      "metadata": {
        "colab": {
          "base_uri": "https://localhost:8080/"
        },
        "id": "s95mn2VSNTP2",
        "outputId": "0712841f-30c6-4cd4-e71c-7e54fa7bc118"
      },
      "outputs": [
        {
          "data": {
            "text/plain": [
              "[32, 34, 12, 20, 29]"
            ]
          },
          "execution_count": 28,
          "metadata": {},
          "output_type": "execute_result"
        }
      ],
      "source": [
        "l=[29, 32, 20, 12, 12, 34, 20]\n",
        "s=set(l)\n",
        "list(s)"
      ]
    },
    {
      "cell_type": "markdown",
      "metadata": {
        "id": "SwByaaYCWR2-"
      },
      "source": [
        "**Write a Python program to check if a list is empty or not.\n",
        "**"
      ]
    },
    {
      "cell_type": "code",
      "execution_count": null,
      "metadata": {
        "colab": {
          "base_uri": "https://localhost:8080/"
        },
        "id": "iQK33fPyWxu-",
        "outputId": "08120386-29b6-4bee-bbc5-95ab925b91ae"
      },
      "outputs": [
        {
          "name": "stdout",
          "output_type": "stream",
          "text": [
            "empty\n",
            "[]\n"
          ]
        }
      ],
      "source": [
        "l=[]\n",
        "if len(l)==0:\n",
        "  print(\"empty\")\n",
        "print(l)"
      ]
    },
    {
      "cell_type": "markdown",
      "metadata": {
        "id": "8IFQGAX3b061"
      },
      "source": [
        "*Write a Python program to count the lowercase letters in a given list ***"
      ]
    },
    {
      "cell_type": "code",
      "execution_count": null,
      "metadata": {
        "colab": {
          "base_uri": "https://localhost:8080/"
        },
        "id": "AhX9ljAxcHV9",
        "outputId": "b3ffa877-fff5-4904-fa42-2af4d587899e"
      },
      "outputs": [
        {
          "name": "stdout",
          "output_type": "stream",
          "text": [
            "lower=9,upper=4\n"
          ]
        }
      ],
      "source": [
        "string=\"SimranKodWaNi\"\n",
        "l=0\n",
        "u=0\n",
        "for i in string:\n",
        "  if (i.islower()):\n",
        "    l+=1\n",
        "  else:\n",
        "    u+=1\n",
        "print(f\"lower={l},upper={u}\")\n"
      ]
    },
    {
      "cell_type": "markdown",
      "metadata": {
        "id": "ML2qtFBHgpNK"
      },
      "source": [
        "**Write a Python program to extract specified number of elements from a\n",
        "given list, which follows each other continuously.<br>\n",
        "○ Original list: [1, 1, 3, 4, 4, 5, 6, 7]<br>\n",
        "○ Extract 2 number of elements from the said list which follows each\n",
        "other continuously: [1, 4]<br><br>\n",
        "○ Original list: [0, 1, 2, 3, 4, 4, 4, 4, 5, 7]<br>\n",
        "○ Extract 4 number of elements from the said list which follows each\n",
        "other continuously: [4]\n",
        "**"
      ]
    },
    {
      "cell_type": "code",
      "execution_count": null,
      "metadata": {
        "colab": {
          "base_uri": "https://localhost:8080/"
        },
        "id": "boV-8rjFkl60",
        "outputId": "88ff79eb-3064-4520-f071-a02a0c2da8fd"
      },
      "outputs": [
        {
          "name": "stdout",
          "output_type": "stream",
          "text": [
            "{0: 1, 1: 1, 2: 1, 3: 1, 4: 4, 5: 1}\n"
          ]
        },
        {
          "data": {
            "text/plain": [
              "4"
            ]
          },
          "execution_count": 50,
          "metadata": {},
          "output_type": "execute_result"
        }
      ],
      "source": [
        "l =  [0, 1, 2, 3, 4, 4, 4, 4, 5, 7]\n",
        "freq = {}\n",
        "\n",
        "for i in range(len(l) - 1):\n",
        "        freq[l[i]] = freq.get(l[i], 0) + 1\n",
        "\n",
        "print(freq)\n",
        "most_repeated = max(freq, key=freq.get)\n",
        "most_repeated"
      ]
    },
    {
      "cell_type": "markdown",
      "metadata": {
        "id": "1852VcRQyX6V"
      },
      "source": [
        "**Write a Python program to find the largest odd number in a given list of\n",
        "integers.<br>\n",
        "○ Sample Data: ([0, 9, 2, 4, 5, 6]) -> 9<br>\n",
        " ([-4, 0, 6, 1, 0, 2]) -> 1<br>\n",
        " ([1, 2, 3]) -> 3<br>\n",
        " ([-4, 0, 5, 1, 0, 1]) -> 5\n",
        " **"
      ]
    },
    {
      "cell_type": "code",
      "execution_count": null,
      "metadata": {
        "colab": {
          "base_uri": "https://localhost:8080/"
        },
        "id": "vQ4J4N-iz1so",
        "outputId": "94556bac-6b01-4f07-be53-b4e308b84091"
      },
      "outputs": [
        {
          "name": "stdout",
          "output_type": "stream",
          "text": [
            "5\n"
          ]
        }
      ],
      "source": [
        "def odd_find(n):\n",
        "  even=[]\n",
        "  odd=[]\n",
        "  for i in range(len(n)-1):\n",
        "    if n[i]%2==0:\n",
        "      even.append(n[i])\n",
        "    else:\n",
        "      odd.append(n[i])\n",
        "  print(max(odd))\n",
        "\n",
        "k=odd_find([-4, 0, 5, 1, 0, 1])\n"
      ]
    },
    {
      "cell_type": "markdown",
      "metadata": {
        "id": "Nh19n1Tr0izl"
      },
      "source": [
        "**Write a Python program to print a specified list after removing the 0th, 4th\n",
        "and 5th elements.\n",
        "○ Sample List : [A, B, C, D, E, F]\n",
        "○ Expected Output : [B, C, D]\n",
        "**"
      ]
    },
    {
      "cell_type": "code",
      "execution_count": null,
      "metadata": {
        "colab": {
          "base_uri": "https://localhost:8080/"
        },
        "id": "YGbZloqC0xtl",
        "outputId": "ede0bb96-7bda-436d-b07f-710eb45752a0"
      },
      "outputs": [
        {
          "data": {
            "text/plain": [
              "['B', 'C', 'D']"
            ]
          },
          "execution_count": 75,
          "metadata": {},
          "output_type": "execute_result"
        }
      ],
      "source": [
        "# def rem_Elem(n):\n",
        "l=[\"A\", \"B\", \"C\", \"D\", \"E\", 'F']\n",
        "rm=[0,4,5]\n",
        "\n",
        "f=[item for i,item in enumerate(l) if i not in rm]\n",
        "f\n"
      ]
    },
    {
      "cell_type": "markdown",
      "metadata": {
        "id": "rnqXEyKu5m4X"
      },
      "source": [
        "#***Tuple***"
      ]
    },
    {
      "cell_type": "markdown",
      "metadata": {
        "id": "dmh1JXM85vRk"
      },
      "source": [
        "**Write a Python program to create a tuple with different data types.\n",
        "**"
      ]
    },
    {
      "cell_type": "code",
      "execution_count": null,
      "metadata": {
        "colab": {
          "base_uri": "https://localhost:8080/"
        },
        "id": "EbHTOz_12ymX",
        "outputId": "1136c05e-4751-4661-ad0d-0dcb8d4d8b92"
      },
      "outputs": [
        {
          "data": {
            "text/plain": [
              "(1, 2, 3, 'h', True, [1, 2, 3], {'name': 'Simran'})"
            ]
          },
          "execution_count": 78,
          "metadata": {},
          "output_type": "execute_result"
        }
      ],
      "source": [
        "t=(1,2,3,\"h\",True, [1, 2, 3], {'name': 'Simran'})\n",
        "t"
      ]
    },
    {
      "cell_type": "markdown",
      "metadata": {
        "id": "dXXK-uTq8_Wx"
      },
      "source": [
        "**Write a Python program to create a tuple of numbers and print one item.\n",
        "**"
      ]
    },
    {
      "cell_type": "code",
      "execution_count": null,
      "metadata": {
        "colab": {
          "base_uri": "https://localhost:8080/"
        },
        "id": "zizmRdwN9LSa",
        "outputId": "7bf64018-2b24-4715-e616-3da124464bb3"
      },
      "outputs": [
        {
          "name": "stdout",
          "output_type": "stream",
          "text": [
            "1\n",
            "28\n",
            "56\n",
            "4\n",
            "5\n"
          ]
        }
      ],
      "source": [
        "t=(1,28,56,4,5,6)\n",
        "for i in range(len(t)-1):\n",
        "  print(t[i])"
      ]
    },
    {
      "cell_type": "markdown",
      "metadata": {
        "id": "gIYtf6ej92FD"
      },
      "source": [
        "**Write a Python program to add an item to a tuple.\n",
        "**"
      ]
    },
    {
      "cell_type": "code",
      "execution_count": null,
      "metadata": {
        "colab": {
          "base_uri": "https://localhost:8080/"
        },
        "id": "Ym5NlZzM95oW",
        "outputId": "ca1be97e-1f8b-4c2a-896c-655d9f6d8228"
      },
      "outputs": [
        {
          "data": {
            "text/plain": [
              "(1, 2, 3, 'h', 'hello')"
            ]
          },
          "execution_count": 90,
          "metadata": {},
          "output_type": "execute_result"
        }
      ],
      "source": [
        "t=(1,2,3,\"h\")\n",
        "l=list(t)\n",
        "l.append(\"hello\")\n",
        "t=tuple(l)\n",
        "t"
      ]
    },
    {
      "cell_type": "markdown",
      "metadata": {
        "id": "ObB8DsvN-d2R"
      },
      "source": [
        "**Write a Python program to get the 4th element from the last element of a\n",
        "Tuple.\n",
        "**"
      ]
    },
    {
      "cell_type": "code",
      "execution_count": null,
      "metadata": {
        "colab": {
          "base_uri": "https://localhost:8080/"
        },
        "id": "pSMY3cSW-iSH",
        "outputId": "84884815-cd59-4d9d-c14d-d3233b8988ec"
      },
      "outputs": [
        {
          "data": {
            "text/plain": [
              "3"
            ]
          },
          "execution_count": 92,
          "metadata": {},
          "output_type": "execute_result"
        }
      ],
      "source": [
        "t=(1,2,3,\"h\",\"three\",2003)\n",
        "t[-4]"
      ]
    },
    {
      "cell_type": "markdown",
      "metadata": {
        "id": "ArVPeA93-64Q"
      },
      "source": [
        "**Write a Python program to convert a tuple to a dictionary.\n",
        "**"
      ]
    },
    {
      "cell_type": "code",
      "execution_count": null,
      "metadata": {
        "colab": {
          "base_uri": "https://localhost:8080/"
        },
        "id": "_kJp_F2X-8sj",
        "outputId": "5be52606-eec6-4349-dcbc-2223d5b423da"
      },
      "outputs": [
        {
          "name": "stdout",
          "output_type": "stream",
          "text": [
            "{1: 1, 2: 4, 3: 2, 2003: 1, 6: 1}\n"
          ]
        }
      ],
      "source": [
        "t=(1,2,3,3,2,2,2003,2,6)\n",
        "dict={}\n",
        "for i in range(len(t)):\n",
        "  if t[i] in dict:\n",
        "      dict[t[i]]+=1\n",
        "  else:\n",
        "    dict[t[i]]=1\n",
        "print(dict)"
      ]
    },
    {
      "cell_type": "code",
      "execution_count": null,
      "metadata": {
        "colab": {
          "base_uri": "https://localhost:8080/"
        },
        "id": "KeRNOcJC_pF4",
        "outputId": "dce2b3d0-f0b7-47f5-a402-055fee35a342"
      },
      "outputs": [
        {
          "name": "stdout",
          "output_type": "stream",
          "text": [
            "Tuple to dict: {'name': 'Simran', 'age': 22, 'city': 'Mumbai'}\n"
          ]
        }
      ],
      "source": [
        "t = ((\"name\", \"Simran\"), (\"age\", 22), (\"city\", \"Mumbai\"))\n",
        "dict_1 = dict(t)\n",
        "\n",
        "print(\"Tuple to dict:\", dict_1)\n"
      ]
    },
    {
      "cell_type": "markdown",
      "metadata": {
        "id": "KDxQ2HFsDPaw"
      },
      "source": [
        "**Write a Python program to replace the last value of tuples in a list.<br>\n",
        "Sample list: [(10, 20, 40), (40, 50, 60), (70, 80, 90)]<br>\n",
        "Expected Output: [(10, 20, 100), (40, 50, 100), (70, 80, 100)]\n",
        "**"
      ]
    },
    {
      "cell_type": "code",
      "execution_count": null,
      "metadata": {
        "colab": {
          "base_uri": "https://localhost:8080/"
        },
        "id": "mewVUIcbCs-F",
        "outputId": "9ce996a0-52e9-446b-c65b-413a30a043bb"
      },
      "outputs": [
        {
          "name": "stdout",
          "output_type": "stream",
          "text": [
            "[(10, 20, 100), (40, 50, 100), (70, 80, 100)]\n"
          ]
        }
      ],
      "source": [
        "t=[(10, 20, 40), (40, 50, 60), (70, 80, 90)]\n",
        "l=list(t)\n",
        "for i in range(len(t)):\n",
        "  l[i] = l[i][:-1] + (100,)\n",
        "print(l)"
      ]
    },
    {
      "cell_type": "code",
      "execution_count": null,
      "metadata": {
        "id": "J1TYxGhQJrfX"
      },
      "outputs": [],
      "source": [
        "l[0] = (10, 20, 40)\n",
        "l[0][:-1]  # Output: (10, 20)  # Removes the last element"
      ]
    },
    {
      "cell_type": "markdown",
      "metadata": {
        "id": "3rxyJBhlJwP1"
      },
      "source": [
        "# ***DICTIONARY***:"
      ]
    },
    {
      "cell_type": "markdown",
      "metadata": {
        "id": "ifd45j1mKFqa"
      },
      "source": [
        "*Write a Python script to sort (ascending and descending) a dictionary by\n",
        "value.\n",
        "**"
      ]
    },
    {
      "cell_type": "code",
      "execution_count": null,
      "metadata": {
        "colab": {
          "base_uri": "https://localhost:8080/"
        },
        "id": "Nlkknr7gJ9Oo",
        "outputId": "bdf90dd6-6368-4211-b243-adeccb5f14af"
      },
      "outputs": [
        {
          "name": "stdout",
          "output_type": "stream",
          "text": [
            "{'a': 1, 'b': 2, 'c': 3}\n"
          ]
        }
      ],
      "source": [
        "d={'b': 2, 'a': 1, 'c': 3}\n",
        "s=dict(sorted(d.items(),key=lambda item: item[1]))\n",
        "print(s)"
      ]
    },
    {
      "cell_type": "code",
      "execution_count": null,
      "metadata": {
        "colab": {
          "base_uri": "https://localhost:8080/"
        },
        "id": "QWFryWB1M3Ke",
        "outputId": "6d94b2fc-27a4-483c-a77f-5632081f2e81"
      },
      "outputs": [
        {
          "name": "stdout",
          "output_type": "stream",
          "text": [
            "{'c': 3, 'b': 2, 'a': 1}\n"
          ]
        }
      ],
      "source": [
        "d={'b': 2, 'a': 1, 'c': 3}\n",
        "s=dict(sorted(d.items(),key=lambda item: item[1],reverse=True))\n",
        "print(s)"
      ]
    },
    {
      "cell_type": "markdown",
      "metadata": {
        "id": "zbLvThe2Nxql"
      },
      "source": [
        "**Write a Python program to iterate over dictionaries using for loops.\n",
        "**"
      ]
    },
    {
      "cell_type": "code",
      "execution_count": null,
      "metadata": {
        "colab": {
          "base_uri": "https://localhost:8080/"
        },
        "id": "gjPPzXkiN0XI",
        "outputId": "9e943d1f-e2cd-45ec-a6a0-58f4bd38a06d"
      },
      "outputs": [
        {
          "name": "stdout",
          "output_type": "stream",
          "text": [
            "a 1\n",
            "b 2\n",
            "c 3\n"
          ]
        }
      ],
      "source": [
        "d={'a': 1, 'b': 2, 'c': 3}\n",
        "for i in d:\n",
        "    print(i,d[i])"
      ]
    },
    {
      "cell_type": "markdown",
      "metadata": {
        "id": "V2fUM4d_PGmx"
      },
      "source": [
        "**Write a Python script to merge two Python dictionaries.\n",
        "**"
      ]
    },
    {
      "cell_type": "code",
      "execution_count": null,
      "metadata": {
        "colab": {
          "base_uri": "https://localhost:8080/"
        },
        "id": "oFlgZ1D7OCD4",
        "outputId": "bc89a95b-a75d-4307-db65-18d8081916cc"
      },
      "outputs": [
        {
          "data": {
            "text/plain": [
              "{'a': 1, 'b': 2, 'c': 3, 'd': 4, 'e': 5, 'f': 5}"
            ]
          },
          "execution_count": 150,
          "metadata": {},
          "output_type": "execute_result"
        }
      ],
      "source": [
        "d1={'a': 1, 'b': 2, 'c': 3}\n",
        "d2={'d': 4, 'e': 5, 'f': 5}\n",
        "d1.update(d2)\n",
        "d1"
      ]
    },
    {
      "cell_type": "markdown",
      "metadata": {
        "id": "dRbFKEmmQwfp"
      },
      "source": [
        "**Write a Python program to sum all the items in a dictionary.\n",
        "**"
      ]
    },
    {
      "cell_type": "code",
      "execution_count": null,
      "metadata": {
        "colab": {
          "base_uri": "https://localhost:8080/"
        },
        "id": "3UsCZigFPb3G",
        "outputId": "94144e4f-de1a-4ea0-c9f7-8be33406e211"
      },
      "outputs": [
        {
          "data": {
            "text/plain": [
              "14"
            ]
          },
          "execution_count": 156,
          "metadata": {},
          "output_type": "execute_result"
        }
      ],
      "source": [
        "d1={'a': 1, 'b': 2, 'c': 3}\n",
        "d2={'a': 2, 'b': 2, 'c': 4}\n",
        "# d1.update(d1.values)\n",
        "sum(d1.values())+sum(d2.values())"
      ]
    },
    {
      "cell_type": "code",
      "execution_count": null,
      "metadata": {
        "colab": {
          "base_uri": "https://localhost:8080/"
        },
        "id": "AbwSRvc_RrpC",
        "outputId": "a067365b-4568-435a-8357-bd80af2fe428"
      },
      "outputs": [
        {
          "name": "stdout",
          "output_type": "stream",
          "text": [
            "60\n"
          ]
        }
      ],
      "source": [
        "d = {'a': 10, 'b': 20, 'c': 30}\n",
        "total = sum(d.values())\n",
        "print(total)"
      ]
    },
    {
      "cell_type": "markdown",
      "metadata": {
        "id": "J_NuoF4GS5Q5"
      },
      "source": [
        "**Write a Python program to multiply all the items in a dictionary.\n",
        "**"
      ]
    },
    {
      "cell_type": "code",
      "execution_count": null,
      "metadata": {
        "colab": {
          "base_uri": "https://localhost:8080/"
        },
        "id": "Sk3PGvGzSu4i",
        "outputId": "75431c69-71c3-4069-9d6d-01a9eff55dd5"
      },
      "outputs": [
        {
          "name": "stdout",
          "output_type": "stream",
          "text": [
            "6000\n"
          ]
        }
      ],
      "source": [
        "import math\n",
        "d = {'a': 10, 'b': 20, 'c': 30}\n",
        "total = math.prod(d.values())\n",
        "print(total)"
      ]
    },
    {
      "cell_type": "markdown",
      "metadata": {
        "id": "YET0qyOJTwps"
      },
      "source": [
        "** Write a Python program to sort a given dictionary by key.\n",
        "**"
      ]
    },
    {
      "cell_type": "code",
      "execution_count": null,
      "metadata": {
        "colab": {
          "base_uri": "https://localhost:8080/"
        },
        "id": "Ur2ZdLeaTQ8M",
        "outputId": "403df006-65f1-4ca9-84d5-124d61916281"
      },
      "outputs": [
        {
          "name": "stdout",
          "output_type": "stream",
          "text": [
            "{'a': 4, 'b': 2, 'c': 3}\n"
          ]
        }
      ],
      "source": [
        "d={'b': 2, 'a': 4, 'c': 3}\n",
        "s=dict(sorted(d.items()))\n",
        "print(s)"
      ]
    },
    {
      "cell_type": "markdown",
      "metadata": {
        "id": "eZsUy51vW0Ct"
      },
      "source": [
        "**Write a Python program to remove duplicates from the dictionary.\n",
        "**"
      ]
    },
    {
      "cell_type": "code",
      "execution_count": null,
      "metadata": {
        "colab": {
          "base_uri": "https://localhost:8080/"
        },
        "id": "e_AfdH0mUQNH",
        "outputId": "ae1d1d36-944a-4b35-8bac-a39b9f5bc2d0"
      },
      "outputs": [
        {
          "data": {
            "text/plain": [
              "{'b': 2, 'c': 3, 'a': 7}"
            ]
          },
          "execution_count": 178,
          "metadata": {},
          "output_type": "execute_result"
        }
      ],
      "source": [
        "d={'b': 2, 'a': 4, 'c': 3, \"a\":2,'b': 2, 'a': 7, 'c': 3}\n",
        "d=dict(set(d.items()))\n",
        "d"
      ]
    },
    {
      "cell_type": "markdown",
      "metadata": {
        "id": "18SyiMbQyLYv"
      },
      "source": [
        "# ***NUMPY***"
      ]
    },
    {
      "cell_type": "markdown",
      "metadata": {
        "id": "w9v7aWODERNa"
      },
      "source": [
        "#  1. Numpy array creation and manipulation"
      ]
    },
    {
      "cell_type": "markdown",
      "metadata": {
        "id": "t8ZdHrFxEc9A"
      },
      "source": [
        "**Create a 1D Numpy array “a” containing 10 random integers between 0 and 99.\n",
        "**"
      ]
    },
    {
      "cell_type": "code",
      "execution_count": null,
      "metadata": {
        "colab": {
          "base_uri": "https://localhost:8080/"
        },
        "id": "rhA_di4BEXtD",
        "outputId": "3b79785d-22fe-4689-c1b6-fa293b1f8153"
      },
      "outputs": [
        {
          "data": {
            "text/plain": [
              "array([71, 24, 62, 47,  7, 58, 91, 63, 45, 26])"
            ]
          },
          "execution_count": 15,
          "metadata": {},
          "output_type": "execute_result"
        }
      ],
      "source": [
        "a=np.random.randint(0,99,10)\n",
        "a"
      ]
    },
    {
      "cell_type": "markdown",
      "metadata": {
        "id": "ZwFRLvAWEvrr"
      },
      "source": [
        "**Create a 2D Numpy array “b” of shape (3, 4) containing random integers between -10\n",
        "and 10.\n",
        "**"
      ]
    },
    {
      "cell_type": "code",
      "execution_count": null,
      "metadata": {
        "colab": {
          "base_uri": "https://localhost:8080/"
        },
        "id": "LQT_PINnE0Ts",
        "outputId": "133ec191-add6-4ff9-8b5b-6f74d52d8863"
      },
      "outputs": [
        {
          "data": {
            "text/plain": [
              "array([[ 2, -6,  3,  8],\n",
              "       [ 3,  4,  9, -8],\n",
              "       [ 8, -6, -7,  7]])"
            ]
          },
          "execution_count": 16,
          "metadata": {},
          "output_type": "execute_result"
        }
      ],
      "source": [
        "b=np.random.randint(-10,10,(3,4))\n",
        "b"
      ]
    },
    {
      "cell_type": "markdown",
      "metadata": {
        "id": "vHqh4E6-FVEt"
      },
      "source": [
        "**Reshape “b” into a 1D Numpy array “b_flat”\n",
        "**"
      ]
    },
    {
      "cell_type": "code",
      "execution_count": null,
      "metadata": {
        "colab": {
          "base_uri": "https://localhost:8080/"
        },
        "id": "6qYYGiuBFYen",
        "outputId": "36f329a0-4663-41a9-d096-679c477b4ede"
      },
      "outputs": [
        {
          "data": {
            "text/plain": [
              "array([ 2, -6,  3,  8,  3,  4,  9, -8,  8, -6, -7,  7])"
            ]
          },
          "execution_count": 18,
          "metadata": {},
          "output_type": "execute_result"
        }
      ],
      "source": [
        "b.flatten()"
      ]
    },
    {
      "cell_type": "markdown",
      "metadata": {
        "id": "6r_pUTfmFeGO"
      },
      "source": [
        "**Create a copy of “a” called “a_copy”, and set the first element of “a_copy” to -1.\n",
        "**"
      ]
    },
    {
      "cell_type": "code",
      "execution_count": null,
      "metadata": {
        "colab": {
          "base_uri": "https://localhost:8080/"
        },
        "id": "f1Ch9Kz3FzmG",
        "outputId": "3d3b1f92-02f6-4a28-89b4-f819b24cb0b9"
      },
      "outputs": [
        {
          "data": {
            "text/plain": [
              "array([-1, 24, 62, 47,  7, 58, 91, 63, 45, 26])"
            ]
          },
          "execution_count": 19,
          "metadata": {},
          "output_type": "execute_result"
        }
      ],
      "source": [
        "a_copy=a.copy()\n",
        "a_copy[0]=-1\n",
        "a_copy"
      ]
    },
    {
      "cell_type": "markdown",
      "metadata": {
        "id": "YFhpVNlLGHmj"
      },
      "source": [
        "**Create a 1D Numpy array “c” containing every second element of “a”.\n",
        "**"
      ]
    },
    {
      "cell_type": "code",
      "execution_count": null,
      "metadata": {
        "colab": {
          "base_uri": "https://localhost:8080/"
        },
        "id": "V5uH4yddGSyo",
        "outputId": "1f15a251-a224-4efb-fbc2-e6ed20860341"
      },
      "outputs": [
        {
          "data": {
            "text/plain": [
              "array([71, 62,  7, 91, 45])"
            ]
          },
          "execution_count": 20,
          "metadata": {},
          "output_type": "execute_result"
        }
      ],
      "source": [
        "c=np.array(a[::2])\n",
        "c"
      ]
    },
    {
      "cell_type": "markdown",
      "metadata": {
        "id": "6wfJrKnvGb3o"
      },
      "source": [
        "# 2. Numpy array indexing and slicing\n"
      ]
    },
    {
      "cell_type": "markdown",
      "metadata": {
        "id": "uYa9ckedGzv1"
      },
      "source": [
        "**Print the third element of “a”.\n",
        "**"
      ]
    },
    {
      "cell_type": "code",
      "execution_count": null,
      "metadata": {
        "colab": {
          "base_uri": "https://localhost:8080/"
        },
        "id": "KBARQ8pjGijI",
        "outputId": "3f23e1c4-ecc6-4023-ca7c-08cf20726b0d"
      },
      "outputs": [
        {
          "data": {
            "text/plain": [
              "47"
            ]
          },
          "execution_count": 21,
          "metadata": {},
          "output_type": "execute_result"
        }
      ],
      "source": [
        "a[3]"
      ]
    },
    {
      "cell_type": "markdown",
      "metadata": {
        "id": "QvbeyQZhG55s"
      },
      "source": [
        "**Print the last element of “b”.\n",
        "**"
      ]
    },
    {
      "cell_type": "code",
      "execution_count": null,
      "metadata": {
        "colab": {
          "base_uri": "https://localhost:8080/"
        },
        "id": "ov6Bkq3HHBT1",
        "outputId": "7db95a6b-a3c1-4c31-e1ba-ab8acdb0fdc5"
      },
      "outputs": [
        {
          "data": {
            "text/plain": [
              "array([ 8, -6, -7,  7])"
            ]
          },
          "execution_count": 22,
          "metadata": {},
          "output_type": "execute_result"
        }
      ],
      "source": [
        "b[-1]"
      ]
    },
    {
      "cell_type": "markdown",
      "metadata": {
        "id": "yCBu0OkIHKEL"
      },
      "source": [
        "**Print the first two rows and last two columns of “b”.\n",
        "**"
      ]
    },
    {
      "cell_type": "code",
      "execution_count": null,
      "metadata": {
        "colab": {
          "base_uri": "https://localhost:8080/"
        },
        "id": "LK_TLj_lHM9S",
        "outputId": "ce2606e9-f28a-4236-ba3b-46add53edb23"
      },
      "outputs": [
        {
          "data": {
            "text/plain": [
              "array([[ 3,  8],\n",
              "       [ 9, -8]])"
            ]
          },
          "execution_count": 34,
          "metadata": {},
          "output_type": "execute_result"
        }
      ],
      "source": [
        "(b[:2, -2:])\n"
      ]
    },
    {
      "cell_type": "markdown",
      "metadata": {
        "id": "FcLExHFRIVtf"
      },
      "source": [
        "**Assign the second row of “b” to a variable called “b_row”.\n",
        "**"
      ]
    },
    {
      "cell_type": "code",
      "execution_count": null,
      "metadata": {
        "colab": {
          "base_uri": "https://localhost:8080/"
        },
        "id": "IzWA3YLyIYMk",
        "outputId": "f4790d91-ea0f-4a55-f735-46bd5c461c8d"
      },
      "outputs": [
        {
          "data": {
            "text/plain": [
              "array([ 3,  4,  9, -8])"
            ]
          },
          "execution_count": 35,
          "metadata": {},
          "output_type": "execute_result"
        }
      ],
      "source": [
        "b_row=b[1]\n",
        "b_row"
      ]
    },
    {
      "cell_type": "markdown",
      "metadata": {
        "id": "nhBGMkWrIqCT"
      },
      "source": [
        "**Assign the first column of “b” to a variable called “b_col”.\n",
        "**"
      ]
    },
    {
      "cell_type": "code",
      "execution_count": null,
      "metadata": {
        "colab": {
          "base_uri": "https://localhost:8080/"
        },
        "id": "ZdKNZDxIIsEF",
        "outputId": "26dee844-3ec9-4f19-eefa-43ceb9b93ca6"
      },
      "outputs": [
        {
          "data": {
            "text/plain": [
              "array([[2],\n",
              "       [3],\n",
              "       [8]])"
            ]
          },
          "execution_count": 38,
          "metadata": {},
          "output_type": "execute_result"
        }
      ],
      "source": [
        "b_col=b[:,:1]\n",
        "b_col"
      ]
    },
    {
      "cell_type": "markdown",
      "metadata": {
        "id": "6twHNaOHEGPM"
      },
      "source": [
        "# **3. Numpy array operations**\n",
        "\n",
        "\n",
        "\n"
      ]
    },
    {
      "cell_type": "markdown",
      "metadata": {
        "id": "vbEcXRVuBqgU"
      },
      "source": [
        "*Create a 1D Numpy array “d” containing the integers from 1 to 10.***"
      ]
    },
    {
      "cell_type": "code",
      "execution_count": null,
      "metadata": {
        "colab": {
          "base_uri": "https://localhost:8080/"
        },
        "id": "TSZJYwnMV9j1",
        "outputId": "8a86fa51-18da-429a-8195-03cff0e852d1"
      },
      "outputs": [
        {
          "name": "stdout",
          "output_type": "stream",
          "text": [
            "[ 1  2  3  4  5  6  7  8  9 10]\n"
          ]
        }
      ],
      "source": [
        "import numpy as np\n",
        "d=np.array([1,2,3,4,5,6,7,8,9,10])\n",
        "print(d)"
      ]
    },
    {
      "cell_type": "markdown",
      "metadata": {
        "id": "a-0G6TYmCUTc"
      },
      "source": [
        "**Add “a” and “d” element-wise to create a new Numpy array “e”.\n",
        "**"
      ]
    },
    {
      "cell_type": "code",
      "execution_count": null,
      "metadata": {
        "colab": {
          "base_uri": "https://localhost:8080/"
        },
        "id": "bMWFQZFZCWmE",
        "outputId": "daa4ed54-ae0d-4dd2-f469-c1fac38aa072"
      },
      "outputs": [
        {
          "data": {
            "text/plain": [
              "array([ 2,  4,  6,  8, 10, 12, 14, 16, 18, 20])"
            ]
          },
          "execution_count": 7,
          "metadata": {},
          "output_type": "execute_result"
        }
      ],
      "source": [
        "a = np.array([1,2,3,4,5,6,7,8,9,10])\n",
        "e = a + d\n",
        "e\n"
      ]
    },
    {
      "cell_type": "markdown",
      "metadata": {
        "id": "vFR0PNgNCoDv"
      },
      "source": [
        "** Multiply “b” by 2 to create a new Numpy array “b_double\"\n",
        "**"
      ]
    },
    {
      "cell_type": "code",
      "execution_count": null,
      "metadata": {
        "colab": {
          "base_uri": "https://localhost:8080/"
        },
        "id": "KUlmw9RyCnLb",
        "outputId": "7710824b-82c7-4a20-ce14-26093566a996"
      },
      "outputs": [
        {
          "data": {
            "text/plain": [
              "array([ 2,  4,  6,  8, 10, 12, 14, 16, 18, 20])"
            ]
          },
          "execution_count": 8,
          "metadata": {},
          "output_type": "execute_result"
        }
      ],
      "source": [
        "b=np.array([1,2,3,4,5,6,7,8,9,10])\n",
        "b_double=b*2\n",
        "b_double"
      ]
    },
    {
      "cell_type": "markdown",
      "metadata": {
        "id": "o12Q7P4_DODR"
      },
      "source": [
        "**Calculate the dot product of “b” and “b_double” to create a new Numpy array “f”.\n",
        "**"
      ]
    },
    {
      "cell_type": "code",
      "execution_count": null,
      "metadata": {
        "colab": {
          "base_uri": "https://localhost:8080/"
        },
        "id": "C9gFUEK5DQDt",
        "outputId": "969b7709-b152-4bfe-8dd4-d37d4387e1c9"
      },
      "outputs": [
        {
          "data": {
            "text/plain": [
              "770"
            ]
          },
          "execution_count": 9,
          "metadata": {},
          "output_type": "execute_result"
        }
      ],
      "source": [
        "f=b.dot(b_double)\n",
        "f"
      ]
    },
    {
      "cell_type": "markdown",
      "metadata": {
        "id": "t1QBkatSDjqu"
      },
      "source": [
        "**Calculate the mean of “a”,” b”, and “b_double” to create a new Numpy array “g”.\n",
        "**"
      ]
    },
    {
      "cell_type": "code",
      "execution_count": null,
      "metadata": {
        "colab": {
          "base_uri": "https://localhost:8080/"
        },
        "id": "Nnbq4kzsDlvD",
        "outputId": "c6e7f2d4-cce2-4960-bf71-18e42d1b783b"
      },
      "outputs": [
        {
          "data": {
            "text/plain": [
              "7.333333333333333"
            ]
          },
          "execution_count": 11,
          "metadata": {},
          "output_type": "execute_result"
        }
      ],
      "source": [
        "g=np.mean([a,b,b_double])\n",
        "g"
      ]
    },
    {
      "cell_type": "markdown",
      "metadata": {
        "id": "9bZ3C7PiI_2R"
      },
      "source": []
    },
    {
      "cell_type": "markdown",
      "metadata": {
        "id": "EilI9hMzJCKx"
      },
      "source": [
        "# 4. Numpy array aggregation\n"
      ]
    },
    {
      "cell_type": "markdown",
      "metadata": {
        "id": "Q2pP_2nvJQ6y"
      },
      "source": [
        "**Find the sum of every element in “a” and assign it to a variable “a_sum”\n",
        "**"
      ]
    },
    {
      "cell_type": "code",
      "execution_count": null,
      "metadata": {
        "colab": {
          "base_uri": "https://localhost:8080/"
        },
        "id": "HTKmFuQJJG_M",
        "outputId": "d426b2e1-5201-4db4-f3d0-faf48af825d0"
      },
      "outputs": [
        {
          "data": {
            "text/plain": [
              "494"
            ]
          },
          "execution_count": 39,
          "metadata": {},
          "output_type": "execute_result"
        }
      ],
      "source": [
        "a_sum=np.sum(a)\n",
        "a_sum"
      ]
    },
    {
      "cell_type": "markdown",
      "metadata": {
        "id": "jkbpnE1iJlqk"
      },
      "source": [
        "**Find the minimum element in “b” and assign it to a variable “b_min”\n",
        "**"
      ]
    },
    {
      "cell_type": "code",
      "execution_count": null,
      "metadata": {
        "colab": {
          "base_uri": "https://localhost:8080/"
        },
        "id": "SwlyLAAIJqKX",
        "outputId": "3e9d6152-0b7e-4e8b-ef14-bbba72784f41"
      },
      "outputs": [
        {
          "data": {
            "text/plain": [
              "-8"
            ]
          },
          "execution_count": 42,
          "metadata": {},
          "output_type": "execute_result"
        }
      ],
      "source": [
        "b_min=np.min(b)\n",
        "b_min"
      ]
    },
    {
      "cell_type": "markdown",
      "metadata": {
        "id": "WJcCxZK0J1zr"
      },
      "source": [
        "**Find the maximum element in “b_double” and assign it to a variable “b_double_max”.\n",
        "**"
      ]
    },
    {
      "cell_type": "code",
      "execution_count": null,
      "metadata": {
        "colab": {
          "base_uri": "https://localhost:8080/"
        },
        "id": "jSSSndLpJ8FM",
        "outputId": "0d9d62ab-8653-4644-bcc1-c54970b5e804"
      },
      "outputs": [
        {
          "data": {
            "text/plain": [
              "20"
            ]
          },
          "execution_count": 43,
          "metadata": {},
          "output_type": "execute_result"
        }
      ],
      "source": [
        "b_double_max=np.max(b_double)\n",
        "b_double_max"
      ]
    },
    {
      "cell_type": "markdown",
      "metadata": {
        "id": "uc0A2xCbKIu-"
      },
      "source": [
        "#  ***Pandas***"
      ]
    },
    {
      "cell_type": "markdown",
      "metadata": {
        "id": "yxG9svXaLoWm"
      },
      "source": [
        "**Load the dataset into a Pandas DataFrame and display the first 5 rows to get an idea of\n",
        "the data.\n",
        "**"
      ]
    },
    {
      "cell_type": "code",
      "execution_count": null,
      "metadata": {
        "id": "jg3WtInTKNYP"
      },
      "outputs": [],
      "source": []
    },
    {
      "cell_type": "code",
      "execution_count": null,
      "metadata": {
        "colab": {
          "base_uri": "https://localhost:8080/",
          "height": 321
        },
        "id": "Rgq2iYVGR_tj",
        "outputId": "e15e61a2-c8ce-41c8-e48a-723ac0ae7c99"
      },
      "outputs": [
        {
          "data": {
            "text/html": [
              "<div>\n",
              "<style scoped>\n",
              "    .dataframe tbody tr th:only-of-type {\n",
              "        vertical-align: middle;\n",
              "    }\n",
              "\n",
              "    .dataframe tbody tr th {\n",
              "        vertical-align: top;\n",
              "    }\n",
              "\n",
              "    .dataframe thead th {\n",
              "        text-align: right;\n",
              "    }\n",
              "</style>\n",
              "<table border=\"1\" class=\"dataframe\">\n",
              "  <thead>\n",
              "    <tr style=\"text-align: right;\">\n",
              "      <th></th>\n",
              "      <th>Car Make</th>\n",
              "      <th>Car Model</th>\n",
              "      <th>Year</th>\n",
              "      <th>Engine Size (L)</th>\n",
              "      <th>Horsepower</th>\n",
              "      <th>Torque (lb-ft)</th>\n",
              "      <th>0-60 MPH Time (seconds)</th>\n",
              "      <th>Price (in USD)</th>\n",
              "    </tr>\n",
              "  </thead>\n",
              "  <tbody>\n",
              "    <tr>\n",
              "      <th>0</th>\n",
              "      <td>Porsche</td>\n",
              "      <td>911</td>\n",
              "      <td>2022</td>\n",
              "      <td>3</td>\n",
              "      <td>379</td>\n",
              "      <td>331</td>\n",
              "      <td>4</td>\n",
              "      <td>101,200</td>\n",
              "    </tr>\n",
              "    <tr>\n",
              "      <th>1</th>\n",
              "      <td>Lamborghini</td>\n",
              "      <td>Huracan</td>\n",
              "      <td>2021</td>\n",
              "      <td>5.2</td>\n",
              "      <td>630</td>\n",
              "      <td>443</td>\n",
              "      <td>2.8</td>\n",
              "      <td>274,390</td>\n",
              "    </tr>\n",
              "    <tr>\n",
              "      <th>2</th>\n",
              "      <td>Ferrari</td>\n",
              "      <td>488 GTB</td>\n",
              "      <td>2022</td>\n",
              "      <td>3.9</td>\n",
              "      <td>661</td>\n",
              "      <td>561</td>\n",
              "      <td>3</td>\n",
              "      <td>333,750</td>\n",
              "    </tr>\n",
              "    <tr>\n",
              "      <th>3</th>\n",
              "      <td>Audi</td>\n",
              "      <td>R8</td>\n",
              "      <td>2022</td>\n",
              "      <td>5.2</td>\n",
              "      <td>562</td>\n",
              "      <td>406</td>\n",
              "      <td>3.2</td>\n",
              "      <td>142,700</td>\n",
              "    </tr>\n",
              "    <tr>\n",
              "      <th>4</th>\n",
              "      <td>McLaren</td>\n",
              "      <td>720S</td>\n",
              "      <td>2021</td>\n",
              "      <td>4</td>\n",
              "      <td>710</td>\n",
              "      <td>568</td>\n",
              "      <td>2.7</td>\n",
              "      <td>298,000</td>\n",
              "    </tr>\n",
              "  </tbody>\n",
              "</table>\n",
              "</div>"
            ],
            "text/plain": [
              "      Car Make Car Model  Year Engine Size (L) Horsepower Torque (lb-ft)  \\\n",
              "0      Porsche       911  2022               3        379            331   \n",
              "1  Lamborghini   Huracan  2021             5.2        630            443   \n",
              "2      Ferrari   488 GTB  2022             3.9        661            561   \n",
              "3         Audi        R8  2022             5.2        562            406   \n",
              "4      McLaren      720S  2021               4        710            568   \n",
              "\n",
              "  0-60 MPH Time (seconds) Price (in USD)  \n",
              "0                       4        101,200  \n",
              "1                     2.8        274,390  \n",
              "2                       3        333,750  \n",
              "3                     3.2        142,700  \n",
              "4                     2.7        298,000  "
            ]
          },
          "execution_count": 7,
          "metadata": {},
          "output_type": "execute_result"
        }
      ],
      "source": [
        "import pandas as pd\n",
        "df = pd.read_csv('Sport car price.csv')\n",
        "df.head()"
      ]
    },
    {
      "cell_type": "markdown",
      "metadata": {
        "id": "iQCHffAiMZur"
      },
      "source": [
        "Use Pandas to clean the dataset by removing any missing or duplicate values, and\n",
        "converting any non-numeric data to numeric data wher  appropriate."
      ]
    },
    {
      "cell_type": "code",
      "execution_count": null,
      "metadata": {
        "id": "vJtz-xZqMZur",
        "outputId": "4957e87d-b196-4d18-da48-836090e4dca7"
      },
      "outputs": [
        {
          "name": "stdout",
          "output_type": "stream",
          "text": [
            "Car Make                   0\n",
            "Car Model                  0\n",
            "Year                       0\n",
            "Engine Size (L)            0\n",
            "Horsepower                 0\n",
            "Torque (lb-ft)             0\n",
            "0-60 MPH Time (seconds)    0\n",
            "Price (in USD)             0\n",
            "dtype: int64\n"
          ]
        }
      ],
      "source": [
        "print(df.isnull().sum())"
      ]
    },
    {
      "cell_type": "code",
      "execution_count": null,
      "metadata": {
        "id": "zxIc34Y5MZus",
        "outputId": "395082b8-41cb-49a0-8579-9e162dd237ae"
      },
      "outputs": [
        {
          "data": {
            "text/html": [
              "<div>\n",
              "<style scoped>\n",
              "    .dataframe tbody tr th:only-of-type {\n",
              "        vertical-align: middle;\n",
              "    }\n",
              "\n",
              "    .dataframe tbody tr th {\n",
              "        vertical-align: top;\n",
              "    }\n",
              "\n",
              "    .dataframe thead th {\n",
              "        text-align: right;\n",
              "    }\n",
              "</style>\n",
              "<table border=\"1\" class=\"dataframe\">\n",
              "  <thead>\n",
              "    <tr style=\"text-align: right;\">\n",
              "      <th></th>\n",
              "      <th>Car Make</th>\n",
              "      <th>Car Model</th>\n",
              "      <th>Year</th>\n",
              "      <th>Engine Size (L)</th>\n",
              "      <th>Horsepower</th>\n",
              "      <th>Torque (lb-ft)</th>\n",
              "      <th>0-60 MPH Time (seconds)</th>\n",
              "      <th>Price (in USD)</th>\n",
              "    </tr>\n",
              "  </thead>\n",
              "  <tbody>\n",
              "    <tr>\n",
              "      <th>0</th>\n",
              "      <td>Porsche</td>\n",
              "      <td>911</td>\n",
              "      <td>2022</td>\n",
              "      <td>3</td>\n",
              "      <td>379</td>\n",
              "      <td>331</td>\n",
              "      <td>4</td>\n",
              "      <td>101,200</td>\n",
              "    </tr>\n",
              "    <tr>\n",
              "      <th>1</th>\n",
              "      <td>Lamborghini</td>\n",
              "      <td>Huracan</td>\n",
              "      <td>2021</td>\n",
              "      <td>5.2</td>\n",
              "      <td>630</td>\n",
              "      <td>443</td>\n",
              "      <td>2.8</td>\n",
              "      <td>274,390</td>\n",
              "    </tr>\n",
              "    <tr>\n",
              "      <th>2</th>\n",
              "      <td>Ferrari</td>\n",
              "      <td>488 GTB</td>\n",
              "      <td>2022</td>\n",
              "      <td>3.9</td>\n",
              "      <td>661</td>\n",
              "      <td>561</td>\n",
              "      <td>3</td>\n",
              "      <td>333,750</td>\n",
              "    </tr>\n",
              "    <tr>\n",
              "      <th>3</th>\n",
              "      <td>Audi</td>\n",
              "      <td>R8</td>\n",
              "      <td>2022</td>\n",
              "      <td>5.2</td>\n",
              "      <td>562</td>\n",
              "      <td>406</td>\n",
              "      <td>3.2</td>\n",
              "      <td>142,700</td>\n",
              "    </tr>\n",
              "    <tr>\n",
              "      <th>4</th>\n",
              "      <td>McLaren</td>\n",
              "      <td>720S</td>\n",
              "      <td>2021</td>\n",
              "      <td>4</td>\n",
              "      <td>710</td>\n",
              "      <td>568</td>\n",
              "      <td>2.7</td>\n",
              "      <td>298,000</td>\n",
              "    </tr>\n",
              "    <tr>\n",
              "      <th>...</th>\n",
              "      <td>...</td>\n",
              "      <td>...</td>\n",
              "      <td>...</td>\n",
              "      <td>...</td>\n",
              "      <td>...</td>\n",
              "      <td>...</td>\n",
              "      <td>...</td>\n",
              "      <td>...</td>\n",
              "    </tr>\n",
              "    <tr>\n",
              "      <th>1002</th>\n",
              "      <td>Koenigsegg</td>\n",
              "      <td>Jesko</td>\n",
              "      <td>2022</td>\n",
              "      <td>5</td>\n",
              "      <td>1280</td>\n",
              "      <td>1106</td>\n",
              "      <td>2.5</td>\n",
              "      <td>3,000,000</td>\n",
              "    </tr>\n",
              "    <tr>\n",
              "      <th>1003</th>\n",
              "      <td>Lotus</td>\n",
              "      <td>Evija</td>\n",
              "      <td>2021</td>\n",
              "      <td>Electric Motor</td>\n",
              "      <td>1972</td>\n",
              "      <td>1254</td>\n",
              "      <td>2</td>\n",
              "      <td>2,000,000</td>\n",
              "    </tr>\n",
              "    <tr>\n",
              "      <th>1004</th>\n",
              "      <td>McLaren</td>\n",
              "      <td>Senna</td>\n",
              "      <td>2021</td>\n",
              "      <td>4</td>\n",
              "      <td>789</td>\n",
              "      <td>590</td>\n",
              "      <td>2.7</td>\n",
              "      <td>1,000,000</td>\n",
              "    </tr>\n",
              "    <tr>\n",
              "      <th>1005</th>\n",
              "      <td>Pagani</td>\n",
              "      <td>Huayra</td>\n",
              "      <td>2021</td>\n",
              "      <td>6</td>\n",
              "      <td>764</td>\n",
              "      <td>738</td>\n",
              "      <td>3</td>\n",
              "      <td>2,600,000</td>\n",
              "    </tr>\n",
              "    <tr>\n",
              "      <th>1006</th>\n",
              "      <td>Rimac</td>\n",
              "      <td>Nevera</td>\n",
              "      <td>2021</td>\n",
              "      <td>Electric Motor</td>\n",
              "      <td>1888</td>\n",
              "      <td>1696</td>\n",
              "      <td>1.85</td>\n",
              "      <td>2,400,000</td>\n",
              "    </tr>\n",
              "  </tbody>\n",
              "</table>\n",
              "<p>995 rows × 8 columns</p>\n",
              "</div>"
            ],
            "text/plain": [
              "         Car Make Car Model  Year Engine Size (L) Horsepower Torque (lb-ft)  \\\n",
              "0         Porsche       911  2022               3        379            331   \n",
              "1     Lamborghini   Huracan  2021             5.2        630            443   \n",
              "2         Ferrari   488 GTB  2022             3.9        661            561   \n",
              "3            Audi        R8  2022             5.2        562            406   \n",
              "4         McLaren      720S  2021               4        710            568   \n",
              "...           ...       ...   ...             ...        ...            ...   \n",
              "1002   Koenigsegg     Jesko  2022               5       1280           1106   \n",
              "1003        Lotus     Evija  2021  Electric Motor       1972           1254   \n",
              "1004      McLaren     Senna  2021               4        789            590   \n",
              "1005       Pagani    Huayra  2021               6        764            738   \n",
              "1006        Rimac    Nevera  2021  Electric Motor       1888           1696   \n",
              "\n",
              "     0-60 MPH Time (seconds) Price (in USD)  \n",
              "0                          4        101,200  \n",
              "1                        2.8        274,390  \n",
              "2                          3        333,750  \n",
              "3                        3.2        142,700  \n",
              "4                        2.7        298,000  \n",
              "...                      ...            ...  \n",
              "1002                     2.5      3,000,000  \n",
              "1003                       2      2,000,000  \n",
              "1004                     2.7      1,000,000  \n",
              "1005                       3      2,600,000  \n",
              "1006                    1.85      2,400,000  \n",
              "\n",
              "[995 rows x 8 columns]"
            ]
          },
          "execution_count": 9,
          "metadata": {},
          "output_type": "execute_result"
        }
      ],
      "source": [
        "df = df.dropna()\n",
        "df"
      ]
    },
    {
      "cell_type": "code",
      "execution_count": null,
      "metadata": {
        "id": "gu6xNA22MZus"
      },
      "outputs": [],
      "source": [
        "df.fillna(df.mean(), inplace=True)\n",
        "df"
      ]
    },
    {
      "cell_type": "code",
      "execution_count": null,
      "metadata": {
        "id": "Iscnt5ZDMZut",
        "outputId": "43afa4fe-4650-4940-f410-04bfdc34573e"
      },
      "outputs": [
        {
          "name": "stdout",
          "output_type": "stream",
          "text": [
            "False\n"
          ]
        }
      ],
      "source": [
        "print(df.isnull().values.any())"
      ]
    },
    {
      "cell_type": "code",
      "execution_count": null,
      "metadata": {
        "id": "tjv8A2-MMZut"
      },
      "outputs": [],
      "source": [
        "df = df.drop_duplicates()  # Removes duplicate rows"
      ]
    },
    {
      "cell_type": "code",
      "execution_count": null,
      "metadata": {
        "id": "HXW3MjnpMZut",
        "outputId": "6936d529-faa2-46c6-cbf6-1b71aa9b8da9"
      },
      "outputs": [
        {
          "data": {
            "text/html": [
              "<div>\n",
              "<style scoped>\n",
              "    .dataframe tbody tr th:only-of-type {\n",
              "        vertical-align: middle;\n",
              "    }\n",
              "\n",
              "    .dataframe tbody tr th {\n",
              "        vertical-align: top;\n",
              "    }\n",
              "\n",
              "    .dataframe thead th {\n",
              "        text-align: right;\n",
              "    }\n",
              "</style>\n",
              "<table border=\"1\" class=\"dataframe\">\n",
              "  <thead>\n",
              "    <tr style=\"text-align: right;\">\n",
              "      <th></th>\n",
              "      <th>Car Make</th>\n",
              "      <th>Car Model</th>\n",
              "      <th>Year</th>\n",
              "      <th>Engine Size (L)</th>\n",
              "      <th>Horsepower</th>\n",
              "      <th>Torque (lb-ft)</th>\n",
              "      <th>0-60 MPH Time (seconds)</th>\n",
              "      <th>Price (in USD)</th>\n",
              "    </tr>\n",
              "  </thead>\n",
              "  <tbody>\n",
              "    <tr>\n",
              "      <th>0</th>\n",
              "      <td>Porsche</td>\n",
              "      <td>911</td>\n",
              "      <td>2022</td>\n",
              "      <td>3</td>\n",
              "      <td>379</td>\n",
              "      <td>331</td>\n",
              "      <td>4</td>\n",
              "      <td>101,200</td>\n",
              "    </tr>\n",
              "    <tr>\n",
              "      <th>1</th>\n",
              "      <td>Lamborghini</td>\n",
              "      <td>Huracan</td>\n",
              "      <td>2021</td>\n",
              "      <td>5.2</td>\n",
              "      <td>630</td>\n",
              "      <td>443</td>\n",
              "      <td>2.8</td>\n",
              "      <td>274,390</td>\n",
              "    </tr>\n",
              "    <tr>\n",
              "      <th>2</th>\n",
              "      <td>Ferrari</td>\n",
              "      <td>488 GTB</td>\n",
              "      <td>2022</td>\n",
              "      <td>3.9</td>\n",
              "      <td>661</td>\n",
              "      <td>561</td>\n",
              "      <td>3</td>\n",
              "      <td>333,750</td>\n",
              "    </tr>\n",
              "    <tr>\n",
              "      <th>3</th>\n",
              "      <td>Audi</td>\n",
              "      <td>R8</td>\n",
              "      <td>2022</td>\n",
              "      <td>5.2</td>\n",
              "      <td>562</td>\n",
              "      <td>406</td>\n",
              "      <td>3.2</td>\n",
              "      <td>142,700</td>\n",
              "    </tr>\n",
              "    <tr>\n",
              "      <th>4</th>\n",
              "      <td>McLaren</td>\n",
              "      <td>720S</td>\n",
              "      <td>2021</td>\n",
              "      <td>4</td>\n",
              "      <td>710</td>\n",
              "      <td>568</td>\n",
              "      <td>2.7</td>\n",
              "      <td>298,000</td>\n",
              "    </tr>\n",
              "    <tr>\n",
              "      <th>...</th>\n",
              "      <td>...</td>\n",
              "      <td>...</td>\n",
              "      <td>...</td>\n",
              "      <td>...</td>\n",
              "      <td>...</td>\n",
              "      <td>...</td>\n",
              "      <td>...</td>\n",
              "      <td>...</td>\n",
              "    </tr>\n",
              "    <tr>\n",
              "      <th>999</th>\n",
              "      <td>Nissan</td>\n",
              "      <td>370Z</td>\n",
              "      <td>2021</td>\n",
              "      <td>3.7</td>\n",
              "      <td>332</td>\n",
              "      <td>270</td>\n",
              "      <td>5.1</td>\n",
              "      <td>30,090</td>\n",
              "    </tr>\n",
              "    <tr>\n",
              "      <th>1002</th>\n",
              "      <td>Koenigsegg</td>\n",
              "      <td>Jesko</td>\n",
              "      <td>2022</td>\n",
              "      <td>5</td>\n",
              "      <td>1280</td>\n",
              "      <td>1106</td>\n",
              "      <td>2.5</td>\n",
              "      <td>3,000,000</td>\n",
              "    </tr>\n",
              "    <tr>\n",
              "      <th>1003</th>\n",
              "      <td>Lotus</td>\n",
              "      <td>Evija</td>\n",
              "      <td>2021</td>\n",
              "      <td>Electric Motor</td>\n",
              "      <td>1972</td>\n",
              "      <td>1254</td>\n",
              "      <td>2</td>\n",
              "      <td>2,000,000</td>\n",
              "    </tr>\n",
              "    <tr>\n",
              "      <th>1005</th>\n",
              "      <td>Pagani</td>\n",
              "      <td>Huayra</td>\n",
              "      <td>2021</td>\n",
              "      <td>6</td>\n",
              "      <td>764</td>\n",
              "      <td>738</td>\n",
              "      <td>3</td>\n",
              "      <td>2,600,000</td>\n",
              "    </tr>\n",
              "    <tr>\n",
              "      <th>1006</th>\n",
              "      <td>Rimac</td>\n",
              "      <td>Nevera</td>\n",
              "      <td>2021</td>\n",
              "      <td>Electric Motor</td>\n",
              "      <td>1888</td>\n",
              "      <td>1696</td>\n",
              "      <td>1.85</td>\n",
              "      <td>2,400,000</td>\n",
              "    </tr>\n",
              "  </tbody>\n",
              "</table>\n",
              "<p>707 rows × 8 columns</p>\n",
              "</div>"
            ],
            "text/plain": [
              "         Car Make Car Model  Year Engine Size (L) Horsepower Torque (lb-ft)  \\\n",
              "0         Porsche       911  2022               3        379            331   \n",
              "1     Lamborghini   Huracan  2021             5.2        630            443   \n",
              "2         Ferrari   488 GTB  2022             3.9        661            561   \n",
              "3            Audi        R8  2022             5.2        562            406   \n",
              "4         McLaren      720S  2021               4        710            568   \n",
              "...           ...       ...   ...             ...        ...            ...   \n",
              "999        Nissan      370Z  2021             3.7        332            270   \n",
              "1002   Koenigsegg     Jesko  2022               5       1280           1106   \n",
              "1003        Lotus     Evija  2021  Electric Motor       1972           1254   \n",
              "1005       Pagani    Huayra  2021               6        764            738   \n",
              "1006        Rimac    Nevera  2021  Electric Motor       1888           1696   \n",
              "\n",
              "     0-60 MPH Time (seconds) Price (in USD)  \n",
              "0                          4        101,200  \n",
              "1                        2.8        274,390  \n",
              "2                          3        333,750  \n",
              "3                        3.2        142,700  \n",
              "4                        2.7        298,000  \n",
              "...                      ...            ...  \n",
              "999                      5.1         30,090  \n",
              "1002                     2.5      3,000,000  \n",
              "1003                       2      2,000,000  \n",
              "1005                       3      2,600,000  \n",
              "1006                    1.85      2,400,000  \n",
              "\n",
              "[707 rows x 8 columns]"
            ]
          },
          "execution_count": 14,
          "metadata": {},
          "output_type": "execute_result"
        }
      ],
      "source": [
        "df"
      ]
    },
    {
      "cell_type": "code",
      "execution_count": null,
      "metadata": {
        "id": "gZJ-ziuCMZuu",
        "outputId": "ed2b3d84-9901-4277-fa0e-eb0d1f4e9cd9"
      },
      "outputs": [
        {
          "name": "stdout",
          "output_type": "stream",
          "text": [
            "<class 'pandas.core.frame.DataFrame'>\n",
            "Index: 707 entries, 0 to 1006\n",
            "Data columns (total 8 columns):\n",
            " #   Column                   Non-Null Count  Dtype \n",
            "---  ------                   --------------  ----- \n",
            " 0   Car Make                 707 non-null    object\n",
            " 1   Car Model                707 non-null    object\n",
            " 2   Year                     707 non-null    int64 \n",
            " 3   Engine Size (L)          707 non-null    object\n",
            " 4   Horsepower               707 non-null    object\n",
            " 5   Torque (lb-ft)           707 non-null    object\n",
            " 6   0-60 MPH Time (seconds)  707 non-null    object\n",
            " 7   Price (in USD)           707 non-null    object\n",
            "dtypes: int64(1), object(7)\n",
            "memory usage: 49.7+ KB\n",
            "None\n"
          ]
        }
      ],
      "source": [
        "print(df.info())"
      ]
    },
    {
      "cell_type": "code",
      "execution_count": null,
      "metadata": {
        "id": "6f0mxdviMZuu"
      },
      "outputs": [],
      "source": [
        "non_numeric=df.select_dtypes(include=[\"object\"]).columns\n",
        "print(\"Non-numeric columns:\", non_numeric)"
      ]
    },
    {
      "cell_type": "code",
      "execution_count": null,
      "metadata": {
        "id": "R2MRG58dMZuu",
        "outputId": "307f1899-2420-4b78-cde4-f3b0ffb4fdc8"
      },
      "outputs": [
        {
          "name": "stdout",
          "output_type": "stream",
          "text": [
            "   Car Make  Car Model  Year  Engine Size (L)  Horsepower  Torque (lb-ft)  \\\n",
            "0        28         18  2022               11          39              27   \n",
            "1        16         98  2021               24          89              43   \n",
            "2        11          5  2022               17          96              67   \n",
            "3         5        130  2022               24          69              38   \n",
            "4        21         15  2021               18         101              68   \n",
            "\n",
            "   0-60 MPH Time (seconds)  Price (in USD)  \n",
            "0                       25              12  \n",
            "1                       13             170  \n",
            "2                       15             199  \n",
            "3                       17              59  \n",
            "4                       12             175  \n"
          ]
        },
        {
          "name": "stderr",
          "output_type": "stream",
          "text": [
            "C:\\Users\\DELL\\AppData\\Local\\Temp\\ipykernel_18556\\4266064490.py:8: SettingWithCopyWarning: \n",
            "A value is trying to be set on a copy of a slice from a DataFrame.\n",
            "Try using .loc[row_indexer,col_indexer] = value instead\n",
            "\n",
            "See the caveats in the documentation: https://pandas.pydata.org/pandas-docs/stable/user_guide/indexing.html#returning-a-view-versus-a-copy\n",
            "  df[col] = le.fit_transform(df[col])\n",
            "C:\\Users\\DELL\\AppData\\Local\\Temp\\ipykernel_18556\\4266064490.py:8: SettingWithCopyWarning: \n",
            "A value is trying to be set on a copy of a slice from a DataFrame.\n",
            "Try using .loc[row_indexer,col_indexer] = value instead\n",
            "\n",
            "See the caveats in the documentation: https://pandas.pydata.org/pandas-docs/stable/user_guide/indexing.html#returning-a-view-versus-a-copy\n",
            "  df[col] = le.fit_transform(df[col])\n",
            "C:\\Users\\DELL\\AppData\\Local\\Temp\\ipykernel_18556\\4266064490.py:8: SettingWithCopyWarning: \n",
            "A value is trying to be set on a copy of a slice from a DataFrame.\n",
            "Try using .loc[row_indexer,col_indexer] = value instead\n",
            "\n",
            "See the caveats in the documentation: https://pandas.pydata.org/pandas-docs/stable/user_guide/indexing.html#returning-a-view-versus-a-copy\n",
            "  df[col] = le.fit_transform(df[col])\n",
            "C:\\Users\\DELL\\AppData\\Local\\Temp\\ipykernel_18556\\4266064490.py:8: SettingWithCopyWarning: \n",
            "A value is trying to be set on a copy of a slice from a DataFrame.\n",
            "Try using .loc[row_indexer,col_indexer] = value instead\n",
            "\n",
            "See the caveats in the documentation: https://pandas.pydata.org/pandas-docs/stable/user_guide/indexing.html#returning-a-view-versus-a-copy\n",
            "  df[col] = le.fit_transform(df[col])\n",
            "C:\\Users\\DELL\\AppData\\Local\\Temp\\ipykernel_18556\\4266064490.py:8: SettingWithCopyWarning: \n",
            "A value is trying to be set on a copy of a slice from a DataFrame.\n",
            "Try using .loc[row_indexer,col_indexer] = value instead\n",
            "\n",
            "See the caveats in the documentation: https://pandas.pydata.org/pandas-docs/stable/user_guide/indexing.html#returning-a-view-versus-a-copy\n",
            "  df[col] = le.fit_transform(df[col])\n",
            "C:\\Users\\DELL\\AppData\\Local\\Temp\\ipykernel_18556\\4266064490.py:8: SettingWithCopyWarning: \n",
            "A value is trying to be set on a copy of a slice from a DataFrame.\n",
            "Try using .loc[row_indexer,col_indexer] = value instead\n",
            "\n",
            "See the caveats in the documentation: https://pandas.pydata.org/pandas-docs/stable/user_guide/indexing.html#returning-a-view-versus-a-copy\n",
            "  df[col] = le.fit_transform(df[col])\n",
            "C:\\Users\\DELL\\AppData\\Local\\Temp\\ipykernel_18556\\4266064490.py:8: SettingWithCopyWarning: \n",
            "A value is trying to be set on a copy of a slice from a DataFrame.\n",
            "Try using .loc[row_indexer,col_indexer] = value instead\n",
            "\n",
            "See the caveats in the documentation: https://pandas.pydata.org/pandas-docs/stable/user_guide/indexing.html#returning-a-view-versus-a-copy\n",
            "  df[col] = le.fit_transform(df[col])\n"
          ]
        }
      ],
      "source": [
        "from sklearn.preprocessing import LabelEncoder\n",
        "\n",
        "le = LabelEncoder()\n",
        "\n",
        "for col in non_numeric:\n",
        "    df[col] = le.fit_transform(df[col])\n",
        "\n",
        "# Verify conversion\n",
        "print(df.head())\n"
      ]
    },
    {
      "cell_type": "code",
      "execution_count": null,
      "metadata": {
        "id": "rG5B9qavMZuv",
        "outputId": "66d2783e-db28-4872-c914-2129f2ab6e25"
      },
      "outputs": [
        {
          "name": "stdout",
          "output_type": "stream",
          "text": [
            "<class 'pandas.core.frame.DataFrame'>\n",
            "Index: 707 entries, 0 to 1006\n",
            "Data columns (total 8 columns):\n",
            " #   Column                   Non-Null Count  Dtype\n",
            "---  ------                   --------------  -----\n",
            " 0   Car Make                 707 non-null    int32\n",
            " 1   Car Model                707 non-null    int32\n",
            " 2   Year                     707 non-null    int64\n",
            " 3   Engine Size (L)          707 non-null    int32\n",
            " 4   Horsepower               707 non-null    int32\n",
            " 5   Torque (lb-ft)           707 non-null    int32\n",
            " 6   0-60 MPH Time (seconds)  707 non-null    int32\n",
            " 7   Price (in USD)           707 non-null    int32\n",
            "dtypes: int32(7), int64(1)\n",
            "memory usage: 30.4 KB\n",
            "None\n"
          ]
        }
      ],
      "source": [
        "print(df.info())"
      ]
    },
    {
      "cell_type": "markdown",
      "metadata": {
        "id": "RbPBRefKMZuv"
      },
      "source": [
        "Use Pandas to explore the dataset by computing summary statistics for each column,\n",
        "such as mean, median, mode, standard deviation, and range."
      ]
    },
    {
      "cell_type": "code",
      "execution_count": null,
      "metadata": {
        "id": "OiSSwsNpMZuw",
        "outputId": "0f4ecda4-0b9c-453c-b9a1-db8552d69956"
      },
      "outputs": [
        {
          "data": {
            "text/html": [
              "<div>\n",
              "<style scoped>\n",
              "    .dataframe tbody tr th:only-of-type {\n",
              "        vertical-align: middle;\n",
              "    }\n",
              "\n",
              "    .dataframe tbody tr th {\n",
              "        vertical-align: top;\n",
              "    }\n",
              "\n",
              "    .dataframe thead th {\n",
              "        text-align: right;\n",
              "    }\n",
              "</style>\n",
              "<table border=\"1\" class=\"dataframe\">\n",
              "  <thead>\n",
              "    <tr style=\"text-align: right;\">\n",
              "      <th></th>\n",
              "      <th>Car Make</th>\n",
              "      <th>Car Model</th>\n",
              "      <th>Year</th>\n",
              "      <th>Engine Size (L)</th>\n",
              "      <th>Horsepower</th>\n",
              "      <th>Torque (lb-ft)</th>\n",
              "      <th>0-60 MPH Time (seconds)</th>\n",
              "      <th>Price (in USD)</th>\n",
              "    </tr>\n",
              "  </thead>\n",
              "  <tbody>\n",
              "    <tr>\n",
              "      <th>count</th>\n",
              "      <td>707.000000</td>\n",
              "      <td>707.000000</td>\n",
              "      <td>707.000000</td>\n",
              "      <td>707.000000</td>\n",
              "      <td>707.000000</td>\n",
              "      <td>707.000000</td>\n",
              "      <td>707.00000</td>\n",
              "      <td>707.000000</td>\n",
              "    </tr>\n",
              "    <tr>\n",
              "      <th>mean</th>\n",
              "      <td>15.705799</td>\n",
              "      <td>85.785007</td>\n",
              "      <td>2021.151344</td>\n",
              "      <td>20.291372</td>\n",
              "      <td>65.868458</td>\n",
              "      <td>48.842999</td>\n",
              "      <td>20.71570</td>\n",
              "      <td>182.640736</td>\n",
              "    </tr>\n",
              "    <tr>\n",
              "      <th>std</th>\n",
              "      <td>9.023012</td>\n",
              "      <td>48.880373</td>\n",
              "      <td>2.347564</td>\n",
              "      <td>8.731271</td>\n",
              "      <td>29.365499</td>\n",
              "      <td>23.050676</td>\n",
              "      <td>7.99237</td>\n",
              "      <td>101.176848</td>\n",
              "    </tr>\n",
              "    <tr>\n",
              "      <th>min</th>\n",
              "      <td>0.000000</td>\n",
              "      <td>0.000000</td>\n",
              "      <td>1965.000000</td>\n",
              "      <td>0.000000</td>\n",
              "      <td>0.000000</td>\n",
              "      <td>0.000000</td>\n",
              "      <td>0.00000</td>\n",
              "      <td>0.000000</td>\n",
              "    </tr>\n",
              "    <tr>\n",
              "      <th>25%</th>\n",
              "      <td>8.000000</td>\n",
              "      <td>52.000000</td>\n",
              "      <td>2021.000000</td>\n",
              "      <td>15.000000</td>\n",
              "      <td>47.000000</td>\n",
              "      <td>31.000000</td>\n",
              "      <td>15.00000</td>\n",
              "      <td>101.000000</td>\n",
              "    </tr>\n",
              "    <tr>\n",
              "      <th>50%</th>\n",
              "      <td>16.000000</td>\n",
              "      <td>80.000000</td>\n",
              "      <td>2021.000000</td>\n",
              "      <td>18.000000</td>\n",
              "      <td>66.000000</td>\n",
              "      <td>47.000000</td>\n",
              "      <td>20.00000</td>\n",
              "      <td>182.000000</td>\n",
              "    </tr>\n",
              "    <tr>\n",
              "      <th>75%</th>\n",
              "      <td>23.000000</td>\n",
              "      <td>123.500000</td>\n",
              "      <td>2022.000000</td>\n",
              "      <td>28.000000</td>\n",
              "      <td>89.000000</td>\n",
              "      <td>69.000000</td>\n",
              "      <td>25.00000</td>\n",
              "      <td>268.000000</td>\n",
              "    </tr>\n",
              "    <tr>\n",
              "      <th>max</th>\n",
              "      <td>37.000000</td>\n",
              "      <td>175.000000</td>\n",
              "      <td>2023.000000</td>\n",
              "      <td>44.000000</td>\n",
              "      <td>120.000000</td>\n",
              "      <td>91.000000</td>\n",
              "      <td>42.00000</td>\n",
              "      <td>366.000000</td>\n",
              "    </tr>\n",
              "  </tbody>\n",
              "</table>\n",
              "</div>"
            ],
            "text/plain": [
              "         Car Make   Car Model         Year  Engine Size (L)  Horsepower  \\\n",
              "count  707.000000  707.000000   707.000000       707.000000  707.000000   \n",
              "mean    15.705799   85.785007  2021.151344        20.291372   65.868458   \n",
              "std      9.023012   48.880373     2.347564         8.731271   29.365499   \n",
              "min      0.000000    0.000000  1965.000000         0.000000    0.000000   \n",
              "25%      8.000000   52.000000  2021.000000        15.000000   47.000000   \n",
              "50%     16.000000   80.000000  2021.000000        18.000000   66.000000   \n",
              "75%     23.000000  123.500000  2022.000000        28.000000   89.000000   \n",
              "max     37.000000  175.000000  2023.000000        44.000000  120.000000   \n",
              "\n",
              "       Torque (lb-ft)  0-60 MPH Time (seconds)  Price (in USD)  \n",
              "count      707.000000                707.00000      707.000000  \n",
              "mean        48.842999                 20.71570      182.640736  \n",
              "std         23.050676                  7.99237      101.176848  \n",
              "min          0.000000                  0.00000        0.000000  \n",
              "25%         31.000000                 15.00000      101.000000  \n",
              "50%         47.000000                 20.00000      182.000000  \n",
              "75%         69.000000                 25.00000      268.000000  \n",
              "max         91.000000                 42.00000      366.000000  "
            ]
          },
          "execution_count": 26,
          "metadata": {},
          "output_type": "execute_result"
        }
      ],
      "source": [
        "df.describe()"
      ]
    },
    {
      "cell_type": "markdown",
      "metadata": {
        "id": "H7QiRAVYMZuw"
      },
      "source": [
        "Use Pandas to group the dataset by car make and compute the average price for eachmake."
      ]
    },
    {
      "cell_type": "code",
      "execution_count": null,
      "metadata": {
        "id": "ShTh1w61MZux",
        "outputId": "887d3b29-ddb4-4e50-a4dd-ec46d65722ac"
      },
      "outputs": [
        {
          "data": {
            "text/plain": [
              "<pandas.core.groupby.generic.DataFrameGroupBy object at 0x00000225186D6F90>"
            ]
          },
          "execution_count": 39,
          "metadata": {},
          "output_type": "execute_result"
        }
      ],
      "source": [
        "df.groupby(\"Car Make\")"
      ]
    },
    {
      "cell_type": "code",
      "execution_count": null,
      "metadata": {
        "id": "ev1Pm8PvMZux",
        "outputId": "97b2aae6-70d2-4510-f1c6-18873f8981ee"
      },
      "outputs": [
        {
          "name": "stdout",
          "output_type": "stream",
          "text": [
            "Car Make\n",
            "0      73.333333\n",
            "1     318.733333\n",
            "2     308.000000\n",
            "3     319.000000\n",
            "4     122.897436\n",
            "5     177.211538\n",
            "6     237.722222\n",
            "7     131.041667\n",
            "8     171.066667\n",
            "9     252.297297\n",
            "10    272.378378\n",
            "11    174.709677\n",
            "12    238.363636\n",
            "13    208.142857\n",
            "14    249.000000\n",
            "15    140.500000\n",
            "16    206.931818\n",
            "17    318.555556\n",
            "18    156.826087\n",
            "19     62.555556\n",
            "20    167.000000\n",
            "21    118.687500\n",
            "22    265.100000\n",
            "23    198.812500\n",
            "24    213.354839\n",
            "25    116.454545\n",
            "26    101.000000\n",
            "27     72.000000\n",
            "28    154.397059\n",
            "29    100.000000\n",
            "30    198.888889\n",
            "31      0.000000\n",
            "32    210.000000\n",
            "33     57.000000\n",
            "34     74.928571\n",
            "35    221.666667\n",
            "36    141.000000\n",
            "37     61.333333\n",
            "Name: Price (in USD), dtype: float64\n"
          ]
        }
      ],
      "source": [
        "grp = df.groupby('Car Make')\n",
        "avg=grp['Price (in USD)'].mean()\n",
        "\n",
        "print(avg)"
      ]
    },
    {
      "cell_type": "markdown",
      "metadata": {
        "id": "FSUwQY7SMZuy"
      },
      "source": [
        "Use Pandas to group the dataset by year and compute the average horsepower for each year."
      ]
    },
    {
      "cell_type": "code",
      "execution_count": null,
      "metadata": {
        "id": "U39I349uMZuz",
        "outputId": "a5d1b6af-43b4-4d17-bacc-561ccc21ab4b"
      },
      "outputs": [
        {
          "data": {
            "text/plain": [
              "Year\n",
              "1965    51.000000\n",
              "2014    85.000000\n",
              "2015    90.100000\n",
              "2017    92.000000\n",
              "2019    81.666667\n",
              "2020    56.333333\n",
              "2021    69.820707\n",
              "2022    59.695489\n",
              "2023    43.666667\n",
              "Name: Horsepower, dtype: float64"
            ]
          },
          "execution_count": 49,
          "metadata": {},
          "output_type": "execute_result"
        }
      ],
      "source": [
        "grp2=df.groupby(\"Year\")\n",
        "avg2=grp2[\"Horsepower\"].mean()\n",
        "avg2"
      ]
    },
    {
      "cell_type": "markdown",
      "metadata": {
        "id": "g95yeHe-MZu0"
      },
      "source": [
        "Use Pandas to create a scatter plot of price versus horsepower, and add a linear\n",
        "regression line to the plot."
      ]
    },
    {
      "cell_type": "code",
      "execution_count": null,
      "metadata": {
        "id": "1SZMrlodMZu0",
        "outputId": "1481b310-5b53-4665-9986-a309ac160c7c"
      },
      "outputs": [
        {
          "data": {
            "text/plain": [
              "<Figure size 600x600 with 0 Axes>"
            ]
          },
          "execution_count": 58,
          "metadata": {},
          "output_type": "execute_result"
        },
        {
          "data": {
            "text/plain": [
              "<Figure size 600x600 with 0 Axes>"
            ]
          },
          "metadata": {},
          "output_type": "display_data"
        }
      ],
      "source": [
        "import matplotlib.pyplot as plt\n",
        "import seaborn as sns\n",
        "plt.figure(figsize=(6,6))\n",
        "sns.reg"
      ]
    },
    {
      "cell_type": "code",
      "execution_count": null,
      "metadata": {
        "id": "DWWF2M7OMZu1",
        "outputId": "b527beae-0f03-4752-e091-f141e850b2ca"
      },
      "outputs": [
        {
          "data": {
            "image/png": "[encoded data removed]",
            "text/plain": [
              "<Figure size 800x500 with 1 Axes>"
            ]
          },
          "metadata": {},
          "output_type": "display_data"
        }
      ],
      "source": [
        "\n",
        "plt.figure(figsize=(8, 5))\n",
        "sns.regplot(x=df['Horsepower'], y=df['Price (in USD)'], scatter_kws={\"alpha\": 0.8}, line_kws={\"color\": \"orange\"})\n",
        "\n",
        "plt.xlabel(\"Horsepower\")\n",
        "plt.ylabel(\"Price (in USD)\")\n",
        "plt.title(\"Scatter Plot of Price vs. Horsepower with Regression Line\")\n",
        "plt.show()\n"
      ]
    },
    {
      "cell_type": "markdown",
      "metadata": {
        "id": "jtbROOKDMZu1"
      },
      "source": [
        "Use Pandas to create a histogram of the 0-60 MPH times in the dataset, with bins of size 0.5 seconds."
      ]
    },
    {
      "cell_type": "code",
      "execution_count": null,
      "metadata": {
        "id": "0qPnJf3JMZu2",
        "outputId": "218d295f-600f-4bd3-8623-fdd61c96deb0"
      },
      "outputs": [
        {
          "data": {
            "image/png": "[encoded data removed]",
            "text/plain": [
              "<Figure size 800x500 with 1 Axes>"
            ]
          },
          "metadata": {},
          "output_type": "display_data"
        }
      ],
      "source": [
        "plt.figure(figsize=(8, 5))\n",
        "\n",
        "df['0-60 MPH Time (seconds)'].hist(bins=int(df['0-60 MPH Time (seconds)'].max() - df['0-60 MPH Time (seconds)'].min() /0.5),edgecolor=\"black\")\n",
        "\n",
        "plt.xlabel(\"0-60 MPH Time (seconds)\")\n",
        "plt.ylabel(\"Frequency\")\n",
        "plt.title(\"distribution\")\n",
        "plt.show()"
      ]
    },
    {
      "cell_type": "markdown",
      "metadata": {
        "id": "TLWi4c0CMZu3"
      },
      "source": [
        "\n"
      ]
    },
    {
      "cell_type": "markdown",
      "metadata": {
        "id": "QvzF_DgGMZu3"
      },
      "source": [
        "Use Pandas to filter the dataset to only include cars with a price greater than $500,000,\n",
        "and then sort the resulting dataset by horsepower in descending order."
      ]
    },
    {
      "cell_type": "code",
      "execution_count": null,
      "metadata": {
        "id": "dNBVXcWGMZu4",
        "outputId": "a62161fd-c196-43df-c26f-781478d850bc"
      },
      "outputs": [
        {
          "data": {
            "text/plain": [
              "<pandas.core.groupby.generic.DataFrameGroupBy object at 0x000002252710C3D0>"
            ]
          },
          "execution_count": 109,
          "metadata": {},
          "output_type": "execute_result"
        }
      ],
      "source": [
        "grouped=df.groupby(\"Car Make\")\n",
        "grouped"
      ]
    },
    {
      "cell_type": "code",
      "execution_count": null,
      "metadata": {
        "id": "RLVHUlBUMZu4",
        "outputId": "e13ae898-44f8-45d6-d1d5-1b810af3105b"
      },
      "outputs": [
        {
          "data": {
            "text/html": [
              "<div>\n",
              "<style scoped>\n",
              "    .dataframe tbody tr th:only-of-type {\n",
              "        vertical-align: middle;\n",
              "    }\n",
              "\n",
              "    .dataframe tbody tr th {\n",
              "        vertical-align: top;\n",
              "    }\n",
              "\n",
              "    .dataframe thead th {\n",
              "        text-align: right;\n",
              "    }\n",
              "</style>\n",
              "<table border=\"1\" class=\"dataframe\">\n",
              "  <thead>\n",
              "    <tr style=\"text-align: right;\">\n",
              "      <th></th>\n",
              "      <th>Car Make</th>\n",
              "      <th>Car Model</th>\n",
              "      <th>Year</th>\n",
              "      <th>Engine Size (L)</th>\n",
              "      <th>Horsepower</th>\n",
              "      <th>Torque (lb-ft)</th>\n",
              "      <th>0-60 MPH Time (seconds)</th>\n",
              "      <th>Price (in USD)</th>\n",
              "    </tr>\n",
              "  </thead>\n",
              "  <tbody>\n",
              "    <tr>\n",
              "      <th>855</th>\n",
              "      <td>11.0</td>\n",
              "      <td>151.0</td>\n",
              "      <td>2021.0</td>\n",
              "      <td>19.0</td>\n",
              "      <td>120.0</td>\n",
              "      <td>69.0</td>\n",
              "      <td>10.0</td>\n",
              "      <td>274.0</td>\n",
              "    </tr>\n",
              "    <tr>\n",
              "      <th>260</th>\n",
              "      <td>11.0</td>\n",
              "      <td>151.0</td>\n",
              "      <td>2022.0</td>\n",
              "      <td>18.0</td>\n",
              "      <td>120.0</td>\n",
              "      <td>69.0</td>\n",
              "      <td>10.0</td>\n",
              "      <td>274.0</td>\n",
              "    </tr>\n",
              "    <tr>\n",
              "      <th>29</th>\n",
              "      <td>11.0</td>\n",
              "      <td>151.0</td>\n",
              "      <td>2021.0</td>\n",
              "      <td>18.0</td>\n",
              "      <td>120.0</td>\n",
              "      <td>69.0</td>\n",
              "      <td>10.0</td>\n",
              "      <td>274.0</td>\n",
              "    </tr>\n",
              "    <tr>\n",
              "      <th>177</th>\n",
              "      <td>11.0</td>\n",
              "      <td>151.0</td>\n",
              "      <td>2022.0</td>\n",
              "      <td>18.0</td>\n",
              "      <td>120.0</td>\n",
              "      <td>69.0</td>\n",
              "      <td>10.0</td>\n",
              "      <td>242.0</td>\n",
              "    </tr>\n",
              "    <tr>\n",
              "      <th>688</th>\n",
              "      <td>28.0</td>\n",
              "      <td>20.0</td>\n",
              "      <td>2015.0</td>\n",
              "      <td>21.0</td>\n",
              "      <td>119.0</td>\n",
              "      <td>91.0</td>\n",
              "      <td>7.0</td>\n",
              "      <td>5.0</td>\n",
              "    </tr>\n",
              "    <tr>\n",
              "      <th>...</th>\n",
              "      <td>...</td>\n",
              "      <td>...</td>\n",
              "      <td>...</td>\n",
              "      <td>...</td>\n",
              "      <td>...</td>\n",
              "      <td>...</td>\n",
              "      <td>...</td>\n",
              "      <td>...</td>\n",
              "    </tr>\n",
              "    <tr>\n",
              "      <th>885</th>\n",
              "      <td>34.0</td>\n",
              "      <td>147.0</td>\n",
              "      <td>2022.0</td>\n",
              "      <td>1.0</td>\n",
              "      <td>3.0</td>\n",
              "      <td>82.0</td>\n",
              "      <td>2.0</td>\n",
              "      <td>108.0</td>\n",
              "    </tr>\n",
              "    <tr>\n",
              "      <th>898</th>\n",
              "      <td>8.0</td>\n",
              "      <td>64.0</td>\n",
              "      <td>2021.0</td>\n",
              "      <td>36.0</td>\n",
              "      <td>2.0</td>\n",
              "      <td>2.0</td>\n",
              "      <td>9.0</td>\n",
              "      <td>176.0</td>\n",
              "    </tr>\n",
              "    <tr>\n",
              "      <th>965</th>\n",
              "      <td>34.0</td>\n",
              "      <td>116.0</td>\n",
              "      <td>2022.0</td>\n",
              "      <td>38.0</td>\n",
              "      <td>1.0</td>\n",
              "      <td>1.0</td>\n",
              "      <td>2.0</td>\n",
              "      <td>55.0</td>\n",
              "    </tr>\n",
              "    <tr>\n",
              "      <th>364</th>\n",
              "      <td>34.0</td>\n",
              "      <td>147.0</td>\n",
              "      <td>2023.0</td>\n",
              "      <td>38.0</td>\n",
              "      <td>0.0</td>\n",
              "      <td>86.0</td>\n",
              "      <td>42.0</td>\n",
              "      <td>108.0</td>\n",
              "    </tr>\n",
              "    <tr>\n",
              "      <th>170</th>\n",
              "      <td>NaN</td>\n",
              "      <td>NaN</td>\n",
              "      <td>NaN</td>\n",
              "      <td>NaN</td>\n",
              "      <td>NaN</td>\n",
              "      <td>NaN</td>\n",
              "      <td>NaN</td>\n",
              "      <td>NaN</td>\n",
              "    </tr>\n",
              "  </tbody>\n",
              "</table>\n",
              "<p>707 rows × 8 columns</p>\n",
              "</div>"
            ],
            "text/plain": [
              "     Car Make  Car Model    Year  Engine Size (L)  Horsepower  Torque (lb-ft)  \\\n",
              "855      11.0      151.0  2021.0             19.0       120.0            69.0   \n",
              "260      11.0      151.0  2022.0             18.0       120.0            69.0   \n",
              "29       11.0      151.0  2021.0             18.0       120.0            69.0   \n",
              "177      11.0      151.0  2022.0             18.0       120.0            69.0   \n",
              "688      28.0       20.0  2015.0             21.0       119.0            91.0   \n",
              "..        ...        ...     ...              ...         ...             ...   \n",
              "885      34.0      147.0  2022.0              1.0         3.0            82.0   \n",
              "898       8.0       64.0  2021.0             36.0         2.0             2.0   \n",
              "965      34.0      116.0  2022.0             38.0         1.0             1.0   \n",
              "364      34.0      147.0  2023.0             38.0         0.0            86.0   \n",
              "170       NaN        NaN     NaN              NaN         NaN             NaN   \n",
              "\n",
              "     0-60 MPH Time (seconds)  Price (in USD)  \n",
              "855                     10.0           274.0  \n",
              "260                     10.0           274.0  \n",
              "29                      10.0           274.0  \n",
              "177                     10.0           242.0  \n",
              "688                      7.0             5.0  \n",
              "..                       ...             ...  \n",
              "885                      2.0           108.0  \n",
              "898                      9.0           176.0  \n",
              "965                      2.0            55.0  \n",
              "364                     42.0           108.0  \n",
              "170                      NaN             NaN  \n",
              "\n",
              "[707 rows x 8 columns]"
            ]
          },
          "execution_count": 115,
          "metadata": {},
          "output_type": "execute_result"
        }
      ],
      "source": [
        "filtered_df=grouped.filter(lambda x: x['Price (in USD)'].mean() > 50,0000)\n",
        "sorted_df = filtered_df.sort_values(by='Horsepower', ascending=False)\n",
        "sorted_df"
      ]
    },
    {
      "cell_type": "markdown",
      "metadata": {
        "id": "fVZAPwpqMZu5"
      },
      "source": [
        "Use Pandas to export the cleaned and transformed dataset to a new CSV file"
      ]
    },
    {
      "cell_type": "code",
      "execution_count": null,
      "metadata": {
        "id": "V1MqOXEQMZu5"
      },
      "outputs": [],
      "source": [
        "df.to_csv(\"New C&T.csv\")"
      ]
    },
    {
      "cell_type": "code",
      "execution_count": null,
      "metadata": {
        "id": "borBrP5nMZu5"
      },
      "outputs": [],
      "source": []
    }
  ],
  "metadata": {
    "colab": {
      "collapsed_sections": [
        "mCvwr4Vvyab1",
        "rnqXEyKu5m4X",
        "3rxyJBhlJwP1",
        "w9v7aWODERNa",
        "6wfJrKnvGb3o",
        "6twHNaOHEGPM"
      ],
      "provenance": [],
      "include_colab_link": true
    },
    "kernelspec": {
      "display_name": "Python 3 (ipykernel)",
      "language": "python",
      "name": "python3"
    },
    "language_info": {
      "codemirror_mode": {
        "name": "ipython",
        "version": 3
      },
      "file_extension": ".py",
      "mimetype": "text/x-python",
      "name": "python",
      "nbconvert_exporter": "python",
      "pygments_lexer": "ipython3",
      "version": "3.11.7"
    }
  },
  "nbformat": 4,
  "nbformat_minor": 0
}