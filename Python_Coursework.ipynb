{
  "nbformat": 4,
  "nbformat_minor": 0,
  "metadata": {
    "colab": {
      "provenance": [],
      "authorship_tag": "ABX9TyOrUz9NLWxiVSTePC2FYDAN",
      "include_colab_link": true
    },
    "kernelspec": {
      "name": "python3",
      "display_name": "Python 3"
    },
    "language_info": {
      "name": "python"
    }
  },
  "cells": [
    {
      "cell_type": "markdown",
      "metadata": {
        "id": "view-in-github",
        "colab_type": "text"
      },
      "source": [
        "<a href=\"https://colab.research.google.com/github/SimranKodwani-2003/Sabudh-Python-questions/blob/main/Python_Coursework.ipynb\" target=\"_parent\"><img src=\"https://colab.research.google.com/assets/colab-badge.svg\" alt=\"Open In Colab\"/></a>"
      ]
    },
    {
      "cell_type": "markdown",
      "source": [
        "#  ***LIST***"
      ],
      "metadata": {
        "id": "mCvwr4Vvyab1"
      }
    },
    {
      "cell_type": "markdown",
      "source": [
        "***Write a Python program to multiply all the items in a list***"
      ],
      "metadata": {
        "id": "uI42Bt2cHy8V"
      }
    },
    {
      "cell_type": "code",
      "source": [
        "n=int(input(\"length of list\"))\n",
        "l=[]\n",
        "for i in range(n):\n",
        "  val=int(input(\"list Values\"))\n",
        "  l.append(val)\n",
        "print(l)"
      ],
      "metadata": {
        "colab": {
          "base_uri": "https://localhost:8080/"
        },
        "id": "YNIR-0LfH3kV",
        "outputId": "70f5e54a-79ab-4040-92c9-f276130356a7"
      },
      "execution_count": null,
      "outputs": [
        {
          "output_type": "stream",
          "name": "stdout",
          "text": [
            "length of list2\n",
            "list Values1\n",
            "list Values2\n",
            "[1, 2]\n"
          ]
        }
      ]
    },
    {
      "cell_type": "code",
      "execution_count": null,
      "metadata": {
        "colab": {
          "base_uri": "https://localhost:8080/"
        },
        "id": "JQJKAhytG4bl",
        "outputId": "80c91714-0861-46ca-e500-3ccc8c83a8d0"
      },
      "outputs": [
        {
          "output_type": "stream",
          "name": "stdout",
          "text": [
            "120\n"
          ]
        }
      ],
      "source": [
        "l=[1,2,3,4,5]\n",
        "prod=1\n",
        "for i in range(len(l)):\n",
        "  prod=prod*l[i]\n",
        "print(prod)"
      ]
    },
    {
      "cell_type": "markdown",
      "source": [
        "***Write a Python program to get the largest number from a list.\\***\n"
      ],
      "metadata": {
        "id": "mGwXFcbEJnED"
      }
    },
    {
      "cell_type": "code",
      "source": [
        "l=[1,2,3,45,65]\n",
        "m=max(l)\n",
        "print(m)"
      ],
      "metadata": {
        "colab": {
          "base_uri": "https://localhost:8080/"
        },
        "id": "AhHUBUOaJvkw",
        "outputId": "7bbd57e9-4363-4c55-b2bc-bec42fc6f3fd"
      },
      "execution_count": null,
      "outputs": [
        {
          "output_type": "stream",
          "name": "stdout",
          "text": [
            "65\n"
          ]
        }
      ]
    },
    {
      "cell_type": "markdown",
      "source": [
        "***Write a Python program to get the smallest number from a list.***"
      ],
      "metadata": {
        "id": "KAjeQvJvKBqy"
      }
    },
    {
      "cell_type": "code",
      "source": [
        "l=[10,20,30,40,50]\n",
        "m=min(l)\n",
        "print(m)"
      ],
      "metadata": {
        "colab": {
          "base_uri": "https://localhost:8080/"
        },
        "id": "9tFPT3zHKBRK",
        "outputId": "a71e6a91-8804-48b3-c8c7-6144a51b3e32"
      },
      "execution_count": null,
      "outputs": [
        {
          "output_type": "stream",
          "name": "stdout",
          "text": [
            "10\n"
          ]
        }
      ]
    },
    {
      "cell_type": "markdown",
      "source": [
        "***Write a Python program to get a list, sorted in increasing order by the last element in each tuple from a given list of non-empty tuples.***"
      ],
      "metadata": {
        "id": "W6R_OeIFKcyQ"
      }
    },
    {
      "cell_type": "code",
      "source": [
        "# l = [29, 32, 12, 34, 20]\n",
        "# sorted_l = sorted(l, key=lambda x: str(x)[-1])\n",
        "# print(sorted_l)"
      ],
      "metadata": {
        "colab": {
          "base_uri": "https://localhost:8080/"
        },
        "id": "jtPVMFitKVl_",
        "outputId": "0acbd038-de5a-410c-c67d-02b9e9ed4a3c"
      },
      "execution_count": null,
      "outputs": [
        {
          "output_type": "stream",
          "name": "stdout",
          "text": [
            "[20, 32, 12, 34, 29]\n"
          ]
        }
      ]
    },
    {
      "cell_type": "code",
      "source": [
        "def Sort_Tuple(t):\n",
        "    t.sort(key = lambda x: x[-1])\n",
        "    return t\n",
        "\n",
        "t = [(3, 1),(1, 3), (3, 2), (2, 1)]\n",
        "\n",
        "print(Sort_Tuple(t))"
      ],
      "metadata": {
        "colab": {
          "base_uri": "https://localhost:8080/"
        },
        "id": "DRaNOcuUKb3d",
        "outputId": "1fa283f0-0df0-42dc-ac32-bd1dd8311cdc"
      },
      "execution_count": null,
      "outputs": [
        {
          "output_type": "stream",
          "name": "stdout",
          "text": [
            "[(3, 1), (2, 1), (3, 2), (1, 3)]\n"
          ]
        }
      ]
    },
    {
      "cell_type": "markdown",
      "source": [
        "***Write a Python program to remove duplicates from a list.***"
      ],
      "metadata": {
        "id": "Acii7V7SR36q"
      }
    },
    {
      "cell_type": "code",
      "source": [
        "l=[29, 32, 20, 12, 12, 34, 20]\n",
        "s=set(l)\n",
        "list(s)"
      ],
      "metadata": {
        "colab": {
          "base_uri": "https://localhost:8080/"
        },
        "id": "s95mn2VSNTP2",
        "outputId": "0712841f-30c6-4cd4-e71c-7e54fa7bc118"
      },
      "execution_count": null,
      "outputs": [
        {
          "output_type": "execute_result",
          "data": {
            "text/plain": [
              "[32, 34, 12, 20, 29]"
            ]
          },
          "metadata": {},
          "execution_count": 28
        }
      ]
    },
    {
      "cell_type": "markdown",
      "source": [
        "**Write a Python program to check if a list is empty or not.\n",
        "**"
      ],
      "metadata": {
        "id": "SwByaaYCWR2-"
      }
    },
    {
      "cell_type": "code",
      "source": [
        "l=[]\n",
        "if len(l)==0:\n",
        "  print(\"empty\")\n",
        "print(l)"
      ],
      "metadata": {
        "colab": {
          "base_uri": "https://localhost:8080/"
        },
        "id": "iQK33fPyWxu-",
        "outputId": "08120386-29b6-4bee-bbc5-95ab925b91ae"
      },
      "execution_count": null,
      "outputs": [
        {
          "output_type": "stream",
          "name": "stdout",
          "text": [
            "empty\n",
            "[]\n"
          ]
        }
      ]
    },
    {
      "cell_type": "markdown",
      "source": [
        "*Write a Python program to count the lowercase letters in a given list ***"
      ],
      "metadata": {
        "id": "8IFQGAX3b061"
      }
    },
    {
      "cell_type": "code",
      "source": [
        "string=\"SimranKodWaNi\"\n",
        "l=0\n",
        "u=0\n",
        "for i in string:\n",
        "  if (i.islower()):\n",
        "    l+=1\n",
        "  else:\n",
        "    u+=1\n",
        "print(f\"lower={l},upper={u}\")\n"
      ],
      "metadata": {
        "colab": {
          "base_uri": "https://localhost:8080/"
        },
        "id": "AhX9ljAxcHV9",
        "outputId": "b3ffa877-fff5-4904-fa42-2af4d587899e"
      },
      "execution_count": null,
      "outputs": [
        {
          "output_type": "stream",
          "name": "stdout",
          "text": [
            "lower=9,upper=4\n"
          ]
        }
      ]
    },
    {
      "cell_type": "markdown",
      "source": [
        "**Write a Python program to extract specified number of elements from a\n",
        "given list, which follows each other continuously.<br>\n",
        "○ Original list: [1, 1, 3, 4, 4, 5, 6, 7]<br>\n",
        "○ Extract 2 number of elements from the said list which follows each\n",
        "other continuously: [1, 4]<br><br>\n",
        "○ Original list: [0, 1, 2, 3, 4, 4, 4, 4, 5, 7]<br>\n",
        "○ Extract 4 number of elements from the said list which follows each\n",
        "other continuously: [4]\n",
        "**"
      ],
      "metadata": {
        "id": "ML2qtFBHgpNK"
      }
    },
    {
      "cell_type": "code",
      "source": [
        "l =  [0, 1, 2, 3, 4, 4, 4, 4, 5, 7]\n",
        "freq = {}\n",
        "\n",
        "for i in range(len(l) - 1):\n",
        "        freq[l[i]] = freq.get(l[i], 0) + 1\n",
        "\n",
        "print(freq)\n",
        "most_repeated = max(freq, key=freq.get)\n",
        "most_repeated"
      ],
      "metadata": {
        "colab": {
          "base_uri": "https://localhost:8080/"
        },
        "id": "boV-8rjFkl60",
        "outputId": "88ff79eb-3064-4520-f071-a02a0c2da8fd"
      },
      "execution_count": null,
      "outputs": [
        {
          "output_type": "stream",
          "name": "stdout",
          "text": [
            "{0: 1, 1: 1, 2: 1, 3: 1, 4: 4, 5: 1}\n"
          ]
        },
        {
          "output_type": "execute_result",
          "data": {
            "text/plain": [
              "4"
            ]
          },
          "metadata": {},
          "execution_count": 50
        }
      ]
    },
    {
      "cell_type": "markdown",
      "source": [
        "**Write a Python program to find the largest odd number in a given list of\n",
        "integers.<br>\n",
        "○ Sample Data: ([0, 9, 2, 4, 5, 6]) -> 9<br>\n",
        " ([-4, 0, 6, 1, 0, 2]) -> 1<br>\n",
        " ([1, 2, 3]) -> 3<br>\n",
        " ([-4, 0, 5, 1, 0, 1]) -> 5\n",
        " **"
      ],
      "metadata": {
        "id": "1852VcRQyX6V"
      }
    },
    {
      "cell_type": "code",
      "source": [
        "def odd_find(n):\n",
        "  even=[]\n",
        "  odd=[]\n",
        "  for i in range(len(n)-1):\n",
        "    if n[i]%2==0:\n",
        "      even.append(n[i])\n",
        "    else:\n",
        "      odd.append(n[i])\n",
        "  print(max(odd))\n",
        "\n",
        "k=odd_find([-4, 0, 5, 1, 0, 1])\n"
      ],
      "metadata": {
        "colab": {
          "base_uri": "https://localhost:8080/"
        },
        "id": "vQ4J4N-iz1so",
        "outputId": "94556bac-6b01-4f07-be53-b4e308b84091"
      },
      "execution_count": null,
      "outputs": [
        {
          "output_type": "stream",
          "name": "stdout",
          "text": [
            "5\n"
          ]
        }
      ]
    },
    {
      "cell_type": "markdown",
      "source": [
        "**Write a Python program to print a specified list after removing the 0th, 4th\n",
        "and 5th elements.\n",
        "○ Sample List : [A, B, C, D, E, F]\n",
        "○ Expected Output : [B, C, D]\n",
        "**"
      ],
      "metadata": {
        "id": "Nh19n1Tr0izl"
      }
    },
    {
      "cell_type": "code",
      "source": [
        "# def rem_Elem(n):\n",
        "l=[\"A\", \"B\", \"C\", \"D\", \"E\", 'F']\n",
        "rm=[0,4,5]\n",
        "\n",
        "f=[item for i,item in enumerate(l) if i not in rm]\n",
        "f\n"
      ],
      "metadata": {
        "colab": {
          "base_uri": "https://localhost:8080/"
        },
        "id": "YGbZloqC0xtl",
        "outputId": "ede0bb96-7bda-436d-b07f-710eb45752a0"
      },
      "execution_count": null,
      "outputs": [
        {
          "output_type": "execute_result",
          "data": {
            "text/plain": [
              "['B', 'C', 'D']"
            ]
          },
          "metadata": {},
          "execution_count": 75
        }
      ]
    },
    {
      "cell_type": "markdown",
      "source": [
        "#***Tuple***"
      ],
      "metadata": {
        "id": "rnqXEyKu5m4X"
      }
    },
    {
      "cell_type": "markdown",
      "source": [
        "**Write a Python program to create a tuple with different data types.\n",
        "**"
      ],
      "metadata": {
        "id": "dmh1JXM85vRk"
      }
    },
    {
      "cell_type": "code",
      "source": [
        "t=(1,2,3,\"h\",True, [1, 2, 3], {'name': 'Simran'})\n",
        "t"
      ],
      "metadata": {
        "colab": {
          "base_uri": "https://localhost:8080/"
        },
        "id": "EbHTOz_12ymX",
        "outputId": "1136c05e-4751-4661-ad0d-0dcb8d4d8b92"
      },
      "execution_count": null,
      "outputs": [
        {
          "output_type": "execute_result",
          "data": {
            "text/plain": [
              "(1, 2, 3, 'h', True, [1, 2, 3], {'name': 'Simran'})"
            ]
          },
          "metadata": {},
          "execution_count": 78
        }
      ]
    },
    {
      "cell_type": "markdown",
      "source": [
        "**Write a Python program to create a tuple of numbers and print one item.\n",
        "**"
      ],
      "metadata": {
        "id": "dXXK-uTq8_Wx"
      }
    },
    {
      "cell_type": "code",
      "source": [
        "t=(1,28,56,4,5,6)\n",
        "for i in range(len(t)-1):\n",
        "  print(t[i])"
      ],
      "metadata": {
        "colab": {
          "base_uri": "https://localhost:8080/"
        },
        "id": "zizmRdwN9LSa",
        "outputId": "7bf64018-2b24-4715-e616-3da124464bb3"
      },
      "execution_count": null,
      "outputs": [
        {
          "output_type": "stream",
          "name": "stdout",
          "text": [
            "1\n",
            "28\n",
            "56\n",
            "4\n",
            "5\n"
          ]
        }
      ]
    },
    {
      "cell_type": "markdown",
      "source": [
        "**Write a Python program to add an item to a tuple.\n",
        "**"
      ],
      "metadata": {
        "id": "gIYtf6ej92FD"
      }
    },
    {
      "cell_type": "code",
      "source": [
        "t=(1,2,3,\"h\")\n",
        "l=list(t)\n",
        "l.append(\"hello\")\n",
        "t=tuple(l)\n",
        "t"
      ],
      "metadata": {
        "colab": {
          "base_uri": "https://localhost:8080/"
        },
        "id": "Ym5NlZzM95oW",
        "outputId": "ca1be97e-1f8b-4c2a-896c-655d9f6d8228"
      },
      "execution_count": null,
      "outputs": [
        {
          "output_type": "execute_result",
          "data": {
            "text/plain": [
              "(1, 2, 3, 'h', 'hello')"
            ]
          },
          "metadata": {},
          "execution_count": 90
        }
      ]
    },
    {
      "cell_type": "markdown",
      "source": [
        "**Write a Python program to get the 4th element from the last element of a\n",
        "Tuple.\n",
        "**"
      ],
      "metadata": {
        "id": "ObB8DsvN-d2R"
      }
    },
    {
      "cell_type": "code",
      "source": [
        "t=(1,2,3,\"h\",\"three\",2003)\n",
        "t[-4]"
      ],
      "metadata": {
        "colab": {
          "base_uri": "https://localhost:8080/"
        },
        "id": "pSMY3cSW-iSH",
        "outputId": "84884815-cd59-4d9d-c14d-d3233b8988ec"
      },
      "execution_count": null,
      "outputs": [
        {
          "output_type": "execute_result",
          "data": {
            "text/plain": [
              "3"
            ]
          },
          "metadata": {},
          "execution_count": 92
        }
      ]
    },
    {
      "cell_type": "markdown",
      "source": [
        "**Write a Python program to convert a tuple to a dictionary.\n",
        "**"
      ],
      "metadata": {
        "id": "ArVPeA93-64Q"
      }
    },
    {
      "cell_type": "code",
      "source": [
        "t=(1,2,3,3,2,2,2003,2,6)\n",
        "dict={}\n",
        "for i in range(len(t)):\n",
        "  if t[i] in dict:\n",
        "      dict[t[i]]+=1\n",
        "  else:\n",
        "    dict[t[i]]=1\n",
        "print(dict)"
      ],
      "metadata": {
        "colab": {
          "base_uri": "https://localhost:8080/"
        },
        "id": "_kJp_F2X-8sj",
        "outputId": "5be52606-eec6-4349-dcbc-2223d5b423da"
      },
      "execution_count": null,
      "outputs": [
        {
          "output_type": "stream",
          "name": "stdout",
          "text": [
            "{1: 1, 2: 4, 3: 2, 2003: 1, 6: 1}\n"
          ]
        }
      ]
    },
    {
      "cell_type": "code",
      "source": [
        "t = ((\"name\", \"Simran\"), (\"age\", 22), (\"city\", \"Mumbai\"))\n",
        "dict_1 = dict(t)\n",
        "\n",
        "print(\"Tuple to dict:\", dict_1)\n"
      ],
      "metadata": {
        "colab": {
          "base_uri": "https://localhost:8080/"
        },
        "id": "KeRNOcJC_pF4",
        "outputId": "dce2b3d0-f0b7-47f5-a402-055fee35a342"
      },
      "execution_count": null,
      "outputs": [
        {
          "output_type": "stream",
          "name": "stdout",
          "text": [
            "Tuple to dict: {'name': 'Simran', 'age': 22, 'city': 'Mumbai'}\n"
          ]
        }
      ]
    },
    {
      "cell_type": "markdown",
      "source": [
        "**Write a Python program to replace the last value of tuples in a list.<br>\n",
        "Sample list: [(10, 20, 40), (40, 50, 60), (70, 80, 90)]<br>\n",
        "Expected Output: [(10, 20, 100), (40, 50, 100), (70, 80, 100)]\n",
        "**"
      ],
      "metadata": {
        "id": "KDxQ2HFsDPaw"
      }
    },
    {
      "cell_type": "code",
      "source": [
        "t=[(10, 20, 40), (40, 50, 60), (70, 80, 90)]\n",
        "l=list(t)\n",
        "for i in range(len(t)):\n",
        "  l[i] = l[i][:-1] + (100,)\n",
        "print(l)"
      ],
      "metadata": {
        "colab": {
          "base_uri": "https://localhost:8080/"
        },
        "id": "mewVUIcbCs-F",
        "outputId": "9ce996a0-52e9-446b-c65b-413a30a043bb"
      },
      "execution_count": null,
      "outputs": [
        {
          "output_type": "stream",
          "name": "stdout",
          "text": [
            "[(10, 20, 100), (40, 50, 100), (70, 80, 100)]\n"
          ]
        }
      ]
    },
    {
      "cell_type": "code",
      "source": [
        "l[0] = (10, 20, 40)\n",
        "l[0][:-1]  # Output: (10, 20)  # Removes the last element"
      ],
      "metadata": {
        "id": "J1TYxGhQJrfX"
      },
      "execution_count": null,
      "outputs": []
    },
    {
      "cell_type": "markdown",
      "source": [
        "# ***DICTIONARY***:"
      ],
      "metadata": {
        "id": "3rxyJBhlJwP1"
      }
    },
    {
      "cell_type": "markdown",
      "source": [
        "*Write a Python script to sort (ascending and descending) a dictionary by\n",
        "value.\n",
        "**"
      ],
      "metadata": {
        "id": "ifd45j1mKFqa"
      }
    },
    {
      "cell_type": "code",
      "source": [
        "d={'b': 2, 'a': 1, 'c': 3}\n",
        "s=dict(sorted(d.items(),key=lambda item: item[1]))\n",
        "print(s)"
      ],
      "metadata": {
        "colab": {
          "base_uri": "https://localhost:8080/"
        },
        "id": "Nlkknr7gJ9Oo",
        "outputId": "bdf90dd6-6368-4211-b243-adeccb5f14af"
      },
      "execution_count": null,
      "outputs": [
        {
          "output_type": "stream",
          "name": "stdout",
          "text": [
            "{'a': 1, 'b': 2, 'c': 3}\n"
          ]
        }
      ]
    },
    {
      "cell_type": "code",
      "source": [
        "d={'b': 2, 'a': 1, 'c': 3}\n",
        "s=dict(sorted(d.items(),key=lambda item: item[1],reverse=True))\n",
        "print(s)"
      ],
      "metadata": {
        "colab": {
          "base_uri": "https://localhost:8080/"
        },
        "id": "QWFryWB1M3Ke",
        "outputId": "6d94b2fc-27a4-483c-a77f-5632081f2e81"
      },
      "execution_count": null,
      "outputs": [
        {
          "output_type": "stream",
          "name": "stdout",
          "text": [
            "{'c': 3, 'b': 2, 'a': 1}\n"
          ]
        }
      ]
    },
    {
      "cell_type": "markdown",
      "source": [
        "**Write a Python program to iterate over dictionaries using for loops.\n",
        "**"
      ],
      "metadata": {
        "id": "zbLvThe2Nxql"
      }
    },
    {
      "cell_type": "code",
      "source": [
        "d={'a': 1, 'b': 2, 'c': 3}\n",
        "for i in d:\n",
        "    print(i,d[i])"
      ],
      "metadata": {
        "colab": {
          "base_uri": "https://localhost:8080/"
        },
        "id": "gjPPzXkiN0XI",
        "outputId": "9e943d1f-e2cd-45ec-a6a0-58f4bd38a06d"
      },
      "execution_count": null,
      "outputs": [
        {
          "output_type": "stream",
          "name": "stdout",
          "text": [
            "a 1\n",
            "b 2\n",
            "c 3\n"
          ]
        }
      ]
    },
    {
      "cell_type": "markdown",
      "source": [
        "**Write a Python script to merge two Python dictionaries.\n",
        "**"
      ],
      "metadata": {
        "id": "V2fUM4d_PGmx"
      }
    },
    {
      "cell_type": "code",
      "source": [
        "d1={'a': 1, 'b': 2, 'c': 3}\n",
        "d2={'d': 4, 'e': 5, 'f': 5}\n",
        "d1.update(d2)\n",
        "d1"
      ],
      "metadata": {
        "colab": {
          "base_uri": "https://localhost:8080/"
        },
        "id": "oFlgZ1D7OCD4",
        "outputId": "bc89a95b-a75d-4307-db65-18d8081916cc"
      },
      "execution_count": null,
      "outputs": [
        {
          "output_type": "execute_result",
          "data": {
            "text/plain": [
              "{'a': 1, 'b': 2, 'c': 3, 'd': 4, 'e': 5, 'f': 5}"
            ]
          },
          "metadata": {},
          "execution_count": 150
        }
      ]
    },
    {
      "cell_type": "markdown",
      "source": [
        "**Write a Python program to sum all the items in a dictionary.\n",
        "**"
      ],
      "metadata": {
        "id": "dRbFKEmmQwfp"
      }
    },
    {
      "cell_type": "code",
      "source": [
        "d1={'a': 1, 'b': 2, 'c': 3}\n",
        "d2={'a': 2, 'b': 2, 'c': 4}\n",
        "# d1.update(d1.values)\n",
        "sum(d1.values())+sum(d2.values())"
      ],
      "metadata": {
        "colab": {
          "base_uri": "https://localhost:8080/"
        },
        "id": "3UsCZigFPb3G",
        "outputId": "94144e4f-de1a-4ea0-c9f7-8be33406e211"
      },
      "execution_count": null,
      "outputs": [
        {
          "output_type": "execute_result",
          "data": {
            "text/plain": [
              "14"
            ]
          },
          "metadata": {},
          "execution_count": 156
        }
      ]
    },
    {
      "cell_type": "code",
      "source": [
        "d = {'a': 10, 'b': 20, 'c': 30}\n",
        "total = sum(d.values())\n",
        "print(total)"
      ],
      "metadata": {
        "colab": {
          "base_uri": "https://localhost:8080/"
        },
        "id": "AbwSRvc_RrpC",
        "outputId": "a067365b-4568-435a-8357-bd80af2fe428"
      },
      "execution_count": null,
      "outputs": [
        {
          "output_type": "stream",
          "name": "stdout",
          "text": [
            "60\n"
          ]
        }
      ]
    },
    {
      "cell_type": "markdown",
      "source": [
        "**Write a Python program to multiply all the items in a dictionary.\n",
        "**"
      ],
      "metadata": {
        "id": "J_NuoF4GS5Q5"
      }
    },
    {
      "cell_type": "code",
      "source": [
        "import math\n",
        "d = {'a': 10, 'b': 20, 'c': 30}\n",
        "total = math.prod(d.values())\n",
        "print(total)"
      ],
      "metadata": {
        "colab": {
          "base_uri": "https://localhost:8080/"
        },
        "id": "Sk3PGvGzSu4i",
        "outputId": "75431c69-71c3-4069-9d6d-01a9eff55dd5"
      },
      "execution_count": null,
      "outputs": [
        {
          "output_type": "stream",
          "name": "stdout",
          "text": [
            "6000\n"
          ]
        }
      ]
    },
    {
      "cell_type": "markdown",
      "source": [
        "** Write a Python program to sort a given dictionary by key.\n",
        "**"
      ],
      "metadata": {
        "id": "YET0qyOJTwps"
      }
    },
    {
      "cell_type": "code",
      "source": [
        "d={'b': 2, 'a': 4, 'c': 3}\n",
        "s=dict(sorted(d.items()))\n",
        "print(s)"
      ],
      "metadata": {
        "colab": {
          "base_uri": "https://localhost:8080/"
        },
        "id": "Ur2ZdLeaTQ8M",
        "outputId": "403df006-65f1-4ca9-84d5-124d61916281"
      },
      "execution_count": null,
      "outputs": [
        {
          "output_type": "stream",
          "name": "stdout",
          "text": [
            "{'a': 4, 'b': 2, 'c': 3}\n"
          ]
        }
      ]
    },
    {
      "cell_type": "markdown",
      "source": [
        "**Write a Python program to remove duplicates from the dictionary.\n",
        "**"
      ],
      "metadata": {
        "id": "eZsUy51vW0Ct"
      }
    },
    {
      "cell_type": "code",
      "source": [
        "d={'b': 2, 'a': 4, 'c': 3, \"a\":2,'b': 2, 'a': 7, 'c': 3}\n",
        "d=dict(set(d.items()))\n",
        "d"
      ],
      "metadata": {
        "colab": {
          "base_uri": "https://localhost:8080/"
        },
        "id": "e_AfdH0mUQNH",
        "outputId": "ae1d1d36-944a-4b35-8bac-a39b9f5bc2d0"
      },
      "execution_count": null,
      "outputs": [
        {
          "output_type": "execute_result",
          "data": {
            "text/plain": [
              "{'b': 2, 'c': 3, 'a': 7}"
            ]
          },
          "metadata": {},
          "execution_count": 178
        }
      ]
    },
    {
      "cell_type": "markdown",
      "source": [
        "# ***Numpy***"
      ],
      "metadata": {
        "id": "18SyiMbQyLYv"
      }
    },
    {
      "cell_type": "markdown",
      "source": [
        "#  1. Numpy array creation and manipulation"
      ],
      "metadata": {
        "id": "w9v7aWODERNa"
      }
    },
    {
      "cell_type": "markdown",
      "source": [
        "**Create a 1D Numpy array “a” containing 10 random integers between 0 and 99.\n",
        "**"
      ],
      "metadata": {
        "id": "t8ZdHrFxEc9A"
      }
    },
    {
      "cell_type": "code",
      "source": [
        "a=np.random.randint(0,99,10)\n",
        "a"
      ],
      "metadata": {
        "colab": {
          "base_uri": "https://localhost:8080/"
        },
        "id": "rhA_di4BEXtD",
        "outputId": "3b79785d-22fe-4689-c1b6-fa293b1f8153"
      },
      "execution_count": 15,
      "outputs": [
        {
          "output_type": "execute_result",
          "data": {
            "text/plain": [
              "array([71, 24, 62, 47,  7, 58, 91, 63, 45, 26])"
            ]
          },
          "metadata": {},
          "execution_count": 15
        }
      ]
    },
    {
      "cell_type": "markdown",
      "source": [
        "**Create a 2D Numpy array “b” of shape (3, 4) containing random integers between -10\n",
        "and 10.\n",
        "**"
      ],
      "metadata": {
        "id": "ZwFRLvAWEvrr"
      }
    },
    {
      "cell_type": "code",
      "source": [
        "b=np.random.randint(-10,10,(3,4))\n",
        "b"
      ],
      "metadata": {
        "colab": {
          "base_uri": "https://localhost:8080/"
        },
        "id": "LQT_PINnE0Ts",
        "outputId": "133ec191-add6-4ff9-8b5b-6f74d52d8863"
      },
      "execution_count": 16,
      "outputs": [
        {
          "output_type": "execute_result",
          "data": {
            "text/plain": [
              "array([[ 2, -6,  3,  8],\n",
              "       [ 3,  4,  9, -8],\n",
              "       [ 8, -6, -7,  7]])"
            ]
          },
          "metadata": {},
          "execution_count": 16
        }
      ]
    },
    {
      "cell_type": "markdown",
      "source": [
        "**Reshape “b” into a 1D Numpy array “b_flat”\n",
        "**"
      ],
      "metadata": {
        "id": "vHqh4E6-FVEt"
      }
    },
    {
      "cell_type": "code",
      "source": [
        "b.flatten()"
      ],
      "metadata": {
        "colab": {
          "base_uri": "https://localhost:8080/"
        },
        "id": "6qYYGiuBFYen",
        "outputId": "36f329a0-4663-41a9-d096-679c477b4ede"
      },
      "execution_count": 18,
      "outputs": [
        {
          "output_type": "execute_result",
          "data": {
            "text/plain": [
              "array([ 2, -6,  3,  8,  3,  4,  9, -8,  8, -6, -7,  7])"
            ]
          },
          "metadata": {},
          "execution_count": 18
        }
      ]
    },
    {
      "cell_type": "markdown",
      "source": [
        "**Create a copy of “a” called “a_copy”, and set the first element of “a_copy” to -1.\n",
        "**"
      ],
      "metadata": {
        "id": "6r_pUTfmFeGO"
      }
    },
    {
      "cell_type": "markdown",
      "source": [
        "# **3. Numpy array operations**\n",
        "\n",
        "\n",
        "\n"
      ],
      "metadata": {
        "id": "6twHNaOHEGPM"
      }
    },
    {
      "cell_type": "markdown",
      "source": [
        "*Create a 1D Numpy array “d” containing the integers from 1 to 10.***"
      ],
      "metadata": {
        "id": "vbEcXRVuBqgU"
      }
    },
    {
      "cell_type": "code",
      "source": [
        "import numpy as np\n",
        "d=np.array([1,2,3,4,5,6,7,8,9,10])\n",
        "print(d)"
      ],
      "metadata": {
        "id": "TSZJYwnMV9j1",
        "colab": {
          "base_uri": "https://localhost:8080/"
        },
        "outputId": "8a86fa51-18da-429a-8195-03cff0e852d1"
      },
      "execution_count": 5,
      "outputs": [
        {
          "output_type": "stream",
          "name": "stdout",
          "text": [
            "[ 1  2  3  4  5  6  7  8  9 10]\n"
          ]
        }
      ]
    },
    {
      "cell_type": "markdown",
      "source": [
        "**Add “a” and “d” element-wise to create a new Numpy array “e”.\n",
        "**"
      ],
      "metadata": {
        "id": "a-0G6TYmCUTc"
      }
    },
    {
      "cell_type": "code",
      "source": [
        "a = np.array([1,2,3,4,5,6,7,8,9,10])\n",
        "e = a + d\n",
        "e\n"
      ],
      "metadata": {
        "colab": {
          "base_uri": "https://localhost:8080/"
        },
        "id": "bMWFQZFZCWmE",
        "outputId": "daa4ed54-ae0d-4dd2-f469-c1fac38aa072"
      },
      "execution_count": 7,
      "outputs": [
        {
          "output_type": "execute_result",
          "data": {
            "text/plain": [
              "array([ 2,  4,  6,  8, 10, 12, 14, 16, 18, 20])"
            ]
          },
          "metadata": {},
          "execution_count": 7
        }
      ]
    },
    {
      "cell_type": "markdown",
      "source": [
        "** Multiply “b” by 2 to create a new Numpy array “b_double\"\n",
        "**"
      ],
      "metadata": {
        "id": "vFR0PNgNCoDv"
      }
    },
    {
      "cell_type": "code",
      "source": [
        "b=np.array([1,2,3,4,5,6,7,8,9,10])\n",
        "b_double=b*2\n",
        "b_double"
      ],
      "metadata": {
        "colab": {
          "base_uri": "https://localhost:8080/"
        },
        "id": "KUlmw9RyCnLb",
        "outputId": "7710824b-82c7-4a20-ce14-26093566a996"
      },
      "execution_count": 8,
      "outputs": [
        {
          "output_type": "execute_result",
          "data": {
            "text/plain": [
              "array([ 2,  4,  6,  8, 10, 12, 14, 16, 18, 20])"
            ]
          },
          "metadata": {},
          "execution_count": 8
        }
      ]
    },
    {
      "cell_type": "markdown",
      "source": [
        "**Calculate the dot product of “b” and “b_double” to create a new Numpy array “f”.\n",
        "**"
      ],
      "metadata": {
        "id": "o12Q7P4_DODR"
      }
    },
    {
      "cell_type": "code",
      "source": [
        "f=b.dot(b_double)\n",
        "f"
      ],
      "metadata": {
        "colab": {
          "base_uri": "https://localhost:8080/"
        },
        "id": "C9gFUEK5DQDt",
        "outputId": "969b7709-b152-4bfe-8dd4-d37d4387e1c9"
      },
      "execution_count": 9,
      "outputs": [
        {
          "output_type": "execute_result",
          "data": {
            "text/plain": [
              "770"
            ]
          },
          "metadata": {},
          "execution_count": 9
        }
      ]
    },
    {
      "cell_type": "markdown",
      "source": [
        "**Calculate the mean of “a”,” b”, and “b_double” to create a new Numpy array “g”.\n",
        "**"
      ],
      "metadata": {
        "id": "t1QBkatSDjqu"
      }
    },
    {
      "cell_type": "code",
      "source": [
        "g=np.mean([a,b,b_double])\n",
        "g"
      ],
      "metadata": {
        "colab": {
          "base_uri": "https://localhost:8080/"
        },
        "id": "Nnbq4kzsDlvD",
        "outputId": "c6e7f2d4-cce2-4960-bf71-18e42d1b783b"
      },
      "execution_count": 11,
      "outputs": [
        {
          "output_type": "execute_result",
          "data": {
            "text/plain": [
              "7.333333333333333"
            ]
          },
          "metadata": {},
          "execution_count": 11
        }
      ]
    }
  ]
}